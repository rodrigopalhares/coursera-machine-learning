{
 "cells": [
  {
   "cell_type": "code",
   "execution_count": 5,
   "metadata": {
    "collapsed": false
   },
   "outputs": [],
   "source": [
    "import matplotlib.pyplot as plt\n",
    "import numpy as np\n",
    "%matplotlib inline"
   ]
  },
  {
   "cell_type": "markdown",
   "metadata": {},
   "source": [
    "# Resposta\n",
    "1. b\n",
    "2. -0.015\n",
    "3. 0.995\n",
    "4. 4\n",
    "5. 1,2,3,5,6"
   ]
  },
  {
   "cell_type": "code",
   "execution_count": 15,
   "metadata": {
    "collapsed": false
   },
   "outputs": [
    {
     "name": "stdout",
     "output_type": "stream",
     "text": [
      "[-4.22 -1.58 -0.73 -0.33  0.91  4.19]\n",
      "-0.293333333333\n",
      "-0.53\n"
     ]
    }
   ],
   "source": [
    "x1 = np.array([-1.58,0.91,-0.73,-4.22,4.19,-0.33])\n",
    "x1.sort()\n",
    "print x1\n",
    "print x1.mean()\n",
    "print np.median(x1)"
   ]
  },
  {
   "cell_type": "code",
   "execution_count": 16,
   "metadata": {
    "collapsed": true
   },
   "outputs": [],
   "source": [
    "import graphlab"
   ]
  },
  {
   "cell_type": "code",
   "execution_count": 31,
   "metadata": {
    "collapsed": false
   },
   "outputs": [
    {
     "data": {
      "text/html": [
       "<div style=\"max-height:1000px;max-width:1500px;overflow:auto;\"><table frame=\"box\" rules=\"cols\">\n",
       "    <tr>\n",
       "        <th style=\"padding-left: 1em; padding-right: 1em; text-align: center\">n</th>\n",
       "        <th style=\"padding-left: 1em; padding-right: 1em; text-align: center\">x1</th>\n",
       "        <th style=\"padding-left: 1em; padding-right: 1em; text-align: center\">x2</th>\n",
       "    </tr>\n",
       "    <tr>\n",
       "        <td style=\"padding-left: 1em; padding-right: 1em; text-align: center; vertical-align: top\">1</td>\n",
       "        <td style=\"padding-left: 1em; padding-right: 1em; text-align: center; vertical-align: top\">-1.58</td>\n",
       "        <td style=\"padding-left: 1em; padding-right: 1em; text-align: center; vertical-align: top\">-2.01</td>\n",
       "    </tr>\n",
       "    <tr>\n",
       "        <td style=\"padding-left: 1em; padding-right: 1em; text-align: center; vertical-align: top\">2</td>\n",
       "        <td style=\"padding-left: 1em; padding-right: 1em; text-align: center; vertical-align: top\">0.91</td>\n",
       "        <td style=\"padding-left: 1em; padding-right: 1em; text-align: center; vertical-align: top\">3.98</td>\n",
       "    </tr>\n",
       "    <tr>\n",
       "        <td style=\"padding-left: 1em; padding-right: 1em; text-align: center; vertical-align: top\">3</td>\n",
       "        <td style=\"padding-left: 1em; padding-right: 1em; text-align: center; vertical-align: top\">-0.73</td>\n",
       "        <td style=\"padding-left: 1em; padding-right: 1em; text-align: center; vertical-align: top\">4.0</td>\n",
       "    </tr>\n",
       "    <tr>\n",
       "        <td style=\"padding-left: 1em; padding-right: 1em; text-align: center; vertical-align: top\">4</td>\n",
       "        <td style=\"padding-left: 1em; padding-right: 1em; text-align: center; vertical-align: top\">-4.22</td>\n",
       "        <td style=\"padding-left: 1em; padding-right: 1em; text-align: center; vertical-align: top\">1.16</td>\n",
       "    </tr>\n",
       "    <tr>\n",
       "        <td style=\"padding-left: 1em; padding-right: 1em; text-align: center; vertical-align: top\">5</td>\n",
       "        <td style=\"padding-left: 1em; padding-right: 1em; text-align: center; vertical-align: top\">4.19</td>\n",
       "        <td style=\"padding-left: 1em; padding-right: 1em; text-align: center; vertical-align: top\">-2.02</td>\n",
       "    </tr>\n",
       "    <tr>\n",
       "        <td style=\"padding-left: 1em; padding-right: 1em; text-align: center; vertical-align: top\">6</td>\n",
       "        <td style=\"padding-left: 1em; padding-right: 1em; text-align: center; vertical-align: top\">-0.33</td>\n",
       "        <td style=\"padding-left: 1em; padding-right: 1em; text-align: center; vertical-align: top\">2.15</td>\n",
       "    </tr>\n",
       "</table>\n",
       "[6 rows x 3 columns]<br/>\n",
       "</div>"
      ],
      "text/plain": [
       "Columns:\n",
       "\tn\tint\n",
       "\tx1\tfloat\n",
       "\tx2\tfloat\n",
       "\n",
       "Rows: 6\n",
       "\n",
       "Data:\n",
       "+---+-------+-------+\n",
       "| n |   x1  |   x2  |\n",
       "+---+-------+-------+\n",
       "| 1 | -1.58 | -2.01 |\n",
       "| 2 |  0.91 |  3.98 |\n",
       "| 3 | -0.73 |  4.0  |\n",
       "| 4 | -4.22 |  1.16 |\n",
       "| 5 |  4.19 | -2.02 |\n",
       "| 6 | -0.33 |  2.15 |\n",
       "+---+-------+-------+\n",
       "[6 rows x 3 columns]"
      ]
     },
     "execution_count": 31,
     "metadata": {},
     "output_type": "execute_result"
    }
   ],
   "source": [
    "df = graphlab.SFrame({'n': [1,2,3,4,5,6], 'x1': [-1.58,0.91,-0.73,-4.22,4.19,-0.33], 'x2': [-2.01,3.98,4.,1.16,-2.02,2.15]})\n",
    "df"
   ]
  },
  {
   "cell_type": "code",
   "execution_count": 49,
   "metadata": {
    "collapsed": false,
    "scrolled": true
   },
   "outputs": [
    {
     "name": "stdout",
     "output_type": "stream",
     "text": [
      "split1 -0.015\n",
      "+---+-------+-------+\n",
      "| n |   x1  |   x2  |\n",
      "+---+-------+-------+\n",
      "| 1 | -1.58 | -2.01 |\n",
      "| 3 | -0.73 |  4.0  |\n",
      "| 4 | -4.22 |  1.16 |\n",
      "| 6 | -0.33 |  2.15 |\n",
      "+---+-------+-------+\n",
      "[? rows x 3 columns]\n",
      "Note: Only the head of the SFrame is printed. This SFrame is lazily evaluated.\n",
      "You can use sf.materialize() to force materialization.\n",
      "+---+------+-------+\n",
      "| n |  x1  |   x2  |\n",
      "+---+------+-------+\n",
      "| 2 | 0.91 |  3.98 |\n",
      "| 5 | 4.19 | -2.02 |\n",
      "+---+------+-------+\n",
      "[? rows x 3 columns]\n",
      "Note: Only the head of the SFrame is printed. This SFrame is lazily evaluated.\n",
      "You can use sf.materialize() to force materialization.\n"
     ]
    }
   ],
   "source": [
    "split1 = (max(df['x1']) + min(df['x1'])) / 2\n",
    "l = df[df['x1'] < split1]\n",
    "r = df[df['x1'] >= split1]\n",
    "print 'split1', split1\n",
    "print l\n",
    "print r"
   ]
  },
  {
   "cell_type": "code",
   "execution_count": 51,
   "metadata": {
    "collapsed": false,
    "scrolled": true
   },
   "outputs": [
    {
     "name": "stdout",
     "output_type": "stream",
     "text": [
      "split2 0.995\n",
      "+---+-------+-------+\n",
      "| n |   x1  |   x2  |\n",
      "+---+-------+-------+\n",
      "| 1 | -1.58 | -2.01 |\n",
      "+---+-------+-------+\n",
      "[? rows x 3 columns]\n",
      "Note: Only the head of the SFrame is printed. This SFrame is lazily evaluated.\n",
      "You can use sf.materialize() to force materialization.\n",
      "+---+-------+------+\n",
      "| n |   x1  |  x2  |\n",
      "+---+-------+------+\n",
      "| 3 | -0.73 | 4.0  |\n",
      "| 4 | -4.22 | 1.16 |\n",
      "| 6 | -0.33 | 2.15 |\n",
      "+---+-------+------+\n",
      "[? rows x 3 columns]\n",
      "Note: Only the head of the SFrame is printed. This SFrame is lazily evaluated.\n",
      "You can use sf.materialize() to force materialization.\n"
     ]
    }
   ],
   "source": [
    "split2 = (max(l['x2']) + min(l['x2'])) / 2\n",
    "ll = l[l['x2'] < split2]\n",
    "lr = l[l['x2'] >= split2]\n",
    "print 'split2', split2\n",
    "print ll\n",
    "print lr"
   ]
  },
  {
   "cell_type": "code",
   "execution_count": 52,
   "metadata": {
    "collapsed": false,
    "scrolled": true
   },
   "outputs": [
    {
     "name": "stdout",
     "output_type": "stream",
     "text": [
      "split3 -2.275\n",
      "+---+-------+------+\n",
      "| n |   x1  |  x2  |\n",
      "+---+-------+------+\n",
      "| 4 | -4.22 | 1.16 |\n",
      "+---+-------+------+\n",
      "[? rows x 3 columns]\n",
      "Note: Only the head of the SFrame is printed. This SFrame is lazily evaluated.\n",
      "You can use sf.materialize() to force materialization.\n",
      "+---+-------+------+\n",
      "| n |   x1  |  x2  |\n",
      "+---+-------+------+\n",
      "| 3 | -0.73 | 4.0  |\n",
      "| 6 | -0.33 | 2.15 |\n",
      "+---+-------+------+\n",
      "[? rows x 3 columns]\n",
      "Note: Only the head of the SFrame is printed. This SFrame is lazily evaluated.\n",
      "You can use sf.materialize() to force materialization.\n"
     ]
    }
   ],
   "source": [
    "split3 = (max(lr['x1']) + min(lr['x1'])) / 2\n",
    "lrl = lr[lr['x1'] < split3]\n",
    "lrr = lr[lr['x1'] >= split3]\n",
    "print 'split3', split3\n",
    "print lrl\n",
    "print lrr"
   ]
  },
  {
   "cell_type": "code",
   "execution_count": 60,
   "metadata": {
    "collapsed": false
   },
   "outputs": [
    {
     "name": "stdout",
     "output_type": "stream",
     "text": [
      "Canvas is updated and available in a tab in the default browser.\n"
     ]
    }
   ],
   "source": [
    "df.show(view='Scatter Plot')"
   ]
  }
 ],
 "metadata": {
  "kernelspec": {
   "display_name": "Python 2",
   "language": "python",
   "name": "python2"
  },
  "language_info": {
   "codemirror_mode": {
    "name": "ipython",
    "version": 2
   },
   "file_extension": ".py",
   "mimetype": "text/x-python",
   "name": "python",
   "nbconvert_exporter": "python",
   "pygments_lexer": "ipython2",
   "version": "2.7.12"
  }
 },
 "nbformat": 4,
 "nbformat_minor": 0
}
