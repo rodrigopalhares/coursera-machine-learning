{
 "cells": [
  {
   "cell_type": "markdown",
   "metadata": {},
   "source": [
    "* b,c\n",
    "* a,b\n",
    "* 3.606\n",
    "* 0.565\n",
    "* true\n",
    "* c"
   ]
  },
  {
   "cell_type": "code",
   "execution_count": 18,
   "metadata": {
    "collapsed": true
   },
   "outputs": [],
   "source": [
    "import numpy as np\n",
    "import graphlab\n",
    "from __future__ import division"
   ]
  },
  {
   "cell_type": "code",
   "execution_count": 25,
   "metadata": {
    "collapsed": false
   },
   "outputs": [
    {
     "data": {
      "text/plain": [
       "{'a': 2L, 'brown': 1L, 'dog': 1L, 'fox': 1L, 'outspaces': 1L, 'quick': 2L}"
      ]
     },
     "execution_count": 25,
     "metadata": {},
     "output_type": "execute_result"
    }
   ],
   "source": [
    "xx = graphlab.text_analytics.count_words(graphlab.SArray(['the quick brown fox jump over the lazy dog', 'a quick brown dog outspaces a quick fox']))\n",
    "xx[1]"
   ]
  },
  {
   "cell_type": "code",
   "execution_count": 26,
   "metadata": {
    "collapsed": true
   },
   "outputs": [],
   "source": [
    "a = np.array([2,0,1,1,1,1,1,1,1,0])\n",
    "b = np.array([0,2,2,1,1,0,0,0,1,1])"
   ]
  },
  {
   "cell_type": "code",
   "execution_count": 69,
   "metadata": {
    "collapsed": false
   },
   "outputs": [
    {
     "name": "stdout",
     "output_type": "stream",
     "text": [
      "3.606 3.60555127546\n",
      "3.606\n"
     ]
    }
   ],
   "source": [
    "euc = ((a-b)**2).sum() ** 0.5\n",
    "print '%.3f' % euc, euc\n",
    "print '%.3f' % graphlab.toolkits.distances.euclidean(a, b)"
   ]
  },
  {
   "cell_type": "code",
   "execution_count": 68,
   "metadata": {
    "collapsed": false
   },
   "outputs": [
    {
     "name": "stdout",
     "output_type": "stream",
     "text": [
      "0.565 0.564805860111\n",
      "0.565\n"
     ]
    }
   ],
   "source": [
    "cos = 1 - ((a*b).sum() / ((sum(a**2) ** 0.5) * (sum(b**2) ** 0.5)))\n",
    "print '%.3f' % cos, cos\n",
    "print '%.3f' % graphlab.toolkits.distances.cosine(a, b)"
   ]
  },
  {
   "cell_type": "code",
   "execution_count": 64,
   "metadata": {
    "collapsed": false
   },
   "outputs": [
    {
     "name": "stdout",
     "output_type": "stream",
     "text": [
      "3.606\n",
      "0.565\n"
     ]
    }
   ],
   "source": [
    "print '%.3f' % graphlab.toolkits.distances.euclidean(a, b)\n",
    "print '%.3f' % graphlab.toolkits.distances.cosine(a, b)"
   ]
  }
 ],
 "metadata": {
  "kernelspec": {
   "display_name": "Python 2",
   "language": "python",
   "name": "python2"
  },
  "language_info": {
   "codemirror_mode": {
    "name": "ipython",
    "version": 2
   },
   "file_extension": ".py",
   "mimetype": "text/x-python",
   "name": "python",
   "nbconvert_exporter": "python",
   "pygments_lexer": "ipython2",
   "version": "2.7.12"
  }
 },
 "nbformat": 4,
 "nbformat_minor": 0
}
