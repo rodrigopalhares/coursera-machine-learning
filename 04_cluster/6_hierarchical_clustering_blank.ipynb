{
 "cells": [
  {
   "cell_type": "markdown",
   "metadata": {},
   "source": [
    "# Hierarchical Clustering"
   ]
  },
  {
   "cell_type": "markdown",
   "metadata": {},
   "source": [
    "**Hierarchical clustering** refers to a class of clustering methods that seek to build a **hierarchy** of clusters, in which some clusters contain others. In this assignment, we will explore a top-down approach, recursively bipartitioning the data using k-means."
   ]
  },
  {
   "cell_type": "markdown",
   "metadata": {},
   "source": [
    "**Note to Amazon EC2 users**: To conserve memory, make sure to stop all the other notebooks before running this notebook."
   ]
  },
  {
   "cell_type": "markdown",
   "metadata": {},
   "source": [
    "## Import packages"
   ]
  },
  {
   "cell_type": "markdown",
   "metadata": {},
   "source": [
    "The following code block will check if you have the correct version of GraphLab Create. Any version later than 1.8.5 will do. To upgrade, read [this page](https://turi.com/download/upgrade-graphlab-create.html)."
   ]
  },
  {
   "cell_type": "code",
   "execution_count": 1,
   "metadata": {
    "collapsed": false
   },
   "outputs": [],
   "source": [
    "import graphlab\n",
    "import matplotlib.pyplot as plt\n",
    "import numpy as np\n",
    "import sys\n",
    "import os\n",
    "import time\n",
    "from scipy.sparse import csr_matrix\n",
    "from sklearn.cluster import KMeans\n",
    "from sklearn.metrics import pairwise_distances\n",
    "%matplotlib inline\n",
    "\n",
    "'''Check GraphLab Create version'''\n",
    "from distutils.version import StrictVersion\n",
    "assert (StrictVersion(graphlab.version) >= StrictVersion('1.8.5')), 'GraphLab Create must be version 1.8.5 or later.'"
   ]
  },
  {
   "cell_type": "markdown",
   "metadata": {},
   "source": [
    "## Load the Wikipedia dataset"
   ]
  },
  {
   "cell_type": "code",
   "execution_count": 2,
   "metadata": {
    "collapsed": false
   },
   "outputs": [
    {
     "name": "stdout",
     "output_type": "stream",
     "text": [
      "This non-commercial license of GraphLab Create for academic use is assigned to superpalhares@gmail.com and will expire on November 01, 2017.\n"
     ]
    },
    {
     "name": "stderr",
     "output_type": "stream",
     "text": [
      "[INFO] graphlab.cython.cy_server: GraphLab Create v2.1 started. Logging: C:\\Users\\super\\AppData\\Local\\Temp\\graphlab_server_1485828068.log.0\n"
     ]
    }
   ],
   "source": [
    "wiki = graphlab.SFrame('people_wiki.gl/')"
   ]
  },
  {
   "cell_type": "markdown",
   "metadata": {},
   "source": [
    "As we did in previous assignments, let's extract the TF-IDF features:"
   ]
  },
  {
   "cell_type": "code",
   "execution_count": 3,
   "metadata": {
    "collapsed": true
   },
   "outputs": [],
   "source": [
    "wiki['tf_idf'] = graphlab.text_analytics.tf_idf(wiki['text'])"
   ]
  },
  {
   "cell_type": "markdown",
   "metadata": {},
   "source": [
    "To run k-means on this dataset, we should convert the data matrix into a sparse matrix."
   ]
  },
  {
   "cell_type": "code",
   "execution_count": 4,
   "metadata": {
    "collapsed": true
   },
   "outputs": [],
   "source": [
    "from em_utilities import sframe_to_scipy # converter\n",
    "\n",
    "# This will take about a minute or two.\n",
    "tf_idf, map_index_to_word = sframe_to_scipy(wiki, 'tf_idf')"
   ]
  },
  {
   "cell_type": "code",
   "execution_count": 6,
   "metadata": {
    "collapsed": false
   },
   "outputs": [
    {
     "data": {
      "text/plain": [
       "<59071x547979 sparse matrix of type '<type 'numpy.float64'>'\n",
       "\twith 10379283 stored elements in Compressed Sparse Row format>"
      ]
     },
     "execution_count": 6,
     "metadata": {},
     "output_type": "execute_result"
    }
   ],
   "source": [
    "tf_idf"
   ]
  },
  {
   "cell_type": "markdown",
   "metadata": {},
   "source": [
    "To be consistent with the k-means assignment, let's normalize all vectors to have unit norm."
   ]
  },
  {
   "cell_type": "code",
   "execution_count": 5,
   "metadata": {
    "collapsed": true
   },
   "outputs": [],
   "source": [
    "from sklearn.preprocessing import normalize\n",
    "tf_idf = normalize(tf_idf)"
   ]
  },
  {
   "cell_type": "markdown",
   "metadata": {},
   "source": [
    "## Bipartition the Wikipedia dataset using k-means"
   ]
  },
  {
   "cell_type": "markdown",
   "metadata": {},
   "source": [
    "Recall our workflow for clustering text data with k-means:\n",
    "\n",
    "1. Load the dataframe containing a dataset, such as the Wikipedia text dataset.\n",
    "2. Extract the data matrix from the dataframe.\n",
    "3. Run k-means on the data matrix with some value of k.\n",
    "4. Visualize the clustering results using the centroids, cluster assignments, and the original dataframe. We keep the original dataframe around because the data matrix does not keep auxiliary information (in the case of the text dataset, the title of each article).\n",
    "\n",
    "Let us modify the workflow to perform bipartitioning:\n",
    "\n",
    "1. Load the dataframe containing a dataset, such as the Wikipedia text dataset.\n",
    "2. Extract the data matrix from the dataframe.\n",
    "3. Run k-means on the data matrix with k=2.\n",
    "4. Divide the data matrix into two parts using the cluster assignments.\n",
    "5. Divide the dataframe into two parts, again using the cluster assignments. This step is necessary to allow for visualization.\n",
    "6. Visualize the bipartition of data.\n",
    "\n",
    "We'd like to be able to repeat Steps 3-6 multiple times to produce a **hierarchy** of clusters such as the following:\n",
    "```\n",
    "                      (root)\n",
    "                         |\n",
    "            +------------+-------------+\n",
    "            |                          |\n",
    "         Cluster                    Cluster\n",
    "     +------+-----+             +------+-----+\n",
    "     |            |             |            |\n",
    "   Cluster     Cluster       Cluster      Cluster\n",
    "```\n",
    "Each **parent cluster** is bipartitioned to produce two **child clusters**. At the very top is the **root cluster**, which consists of the entire dataset.\n",
    "\n",
    "Now we write a wrapper function to bipartition a given cluster using k-means. There are three variables that together comprise the cluster:\n",
    "\n",
    "* `dataframe`: a subset of the original dataframe that correspond to member rows of the cluster\n",
    "* `matrix`: same set of rows, stored in sparse matrix format\n",
    "* `centroid`: the centroid of the cluster (not applicable for the root cluster)\n",
    "\n",
    "Rather than passing around the three variables separately, we package them into a Python dictionary. The wrapper function takes a single dictionary (representing a parent cluster) and returns two dictionaries (representing the child clusters)."
   ]
  },
  {
   "cell_type": "code",
   "execution_count": 6,
   "metadata": {
    "collapsed": false
   },
   "outputs": [],
   "source": [
    "def bipartition(cluster, maxiter=400, num_runs=4, seed=None):\n",
    "    '''cluster: should be a dictionary containing the following keys\n",
    "                * dataframe: original dataframe\n",
    "                * matrix:    same data, in matrix format\n",
    "                * centroid:  centroid for this particular cluster'''\n",
    "    \n",
    "    data_matrix = cluster['matrix']\n",
    "    dataframe   = cluster['dataframe']\n",
    "    \n",
    "    # Run k-means on the data matrix with k=2. We use scikit-learn here to simplify workflow.\n",
    "    kmeans_model = KMeans(n_clusters=2, max_iter=maxiter, n_init=num_runs, random_state=seed, n_jobs=1, verbose=1)\n",
    "    print \"Fiting\"\n",
    "    kmeans_model.fit(data_matrix)\n",
    "    print \"Fited\"\n",
    "    centroids, cluster_assignment = kmeans_model.cluster_centers_, kmeans_model.labels_\n",
    "    \n",
    "    # Divide the data matrix into two parts using the cluster assignments.\n",
    "    data_matrix_left_child, data_matrix_right_child = data_matrix[cluster_assignment==0], \\\n",
    "                                                      data_matrix[cluster_assignment==1]\n",
    "    \n",
    "    # Divide the dataframe into two parts, again using the cluster assignments.\n",
    "    cluster_assignment_sa = graphlab.SArray(cluster_assignment) # minor format conversion\n",
    "    dataframe_left_child, dataframe_right_child     = dataframe[cluster_assignment_sa==0], \\\n",
    "                                                      dataframe[cluster_assignment_sa==1]\n",
    "        \n",
    "    \n",
    "    # Package relevant variables for the child clusters\n",
    "    cluster_left_child  = {'matrix': data_matrix_left_child,\n",
    "                           'dataframe': dataframe_left_child,\n",
    "                           'centroid': centroids[0]}\n",
    "    cluster_right_child = {'matrix': data_matrix_right_child,\n",
    "                           'dataframe': dataframe_right_child,\n",
    "                           'centroid': centroids[1]}\n",
    "\n",
    "    print 'End'\n",
    "    return (cluster_left_child, cluster_right_child)"
   ]
  },
  {
   "cell_type": "markdown",
   "metadata": {},
   "source": [
    "The following cell performs bipartitioning of the Wikipedia dataset. Allow 20-60 seconds to finish.\n",
    "\n",
    "Note. For the purpose of the assignment, we set an explicit seed (`seed=1`) to produce identical outputs for every run. In pratical applications, you might want to use different random seeds for all runs."
   ]
  },
  {
   "cell_type": "code",
   "execution_count": 7,
   "metadata": {
    "collapsed": false,
    "scrolled": true
   },
   "outputs": [
    {
     "name": "stdout",
     "output_type": "stream",
     "text": [
      "Fiting\n",
      "Initialization complete\n",
      "Iteration  0, inertia 116403.036\n",
      "Iteration  1, inertia 58351.852\n",
      "Iteration  2, inertia 58297.635\n",
      "Iteration  3, inertia 58261.706\n",
      "Iteration  4, inertia 58229.069\n",
      "Iteration  5, inertia 58220.610\n",
      "Iteration  6, inertia 58219.679\n",
      "Iteration  7, inertia 58219.221\n",
      "Iteration  8, inertia 58218.996\n",
      "Iteration  9, inertia 58218.868\n",
      "Iteration 10, inertia 58218.790\n",
      "Iteration 11, inertia 58218.744\n",
      "Iteration 12, inertia 58218.713\n",
      "Iteration 13, inertia 58218.688\n",
      "Iteration 14, inertia 58218.672\n",
      "Iteration 15, inertia 58218.659\n",
      "Iteration 16, inertia 58218.653\n",
      "Iteration 17, inertia 58218.649\n",
      "Iteration 18, inertia 58218.647\n",
      "Iteration 19, inertia 58218.645\n",
      "Iteration 20, inertia 58218.644\n",
      "Iteration 21, inertia 58218.643\n",
      "Iteration 22, inertia 58218.643\n",
      "Iteration 23, inertia 58218.642\n",
      "Iteration 24, inertia 58218.642\n",
      "Converged at iteration 24: center shift 0.000000e+00 within tolerance 1.803739e-10\n",
      "Initialization complete\n",
      "Iteration  0, inertia 116703.253\n",
      "Iteration  1, inertia 58287.513\n",
      "Iteration  2, inertia 58254.956\n",
      "Iteration  3, inertia 58242.587\n",
      "Iteration  4, inertia 58229.950\n",
      "Iteration  5, inertia 58228.858\n",
      "Iteration  6, inertia 58228.566\n",
      "Iteration  7, inertia 58228.425\n",
      "Iteration  8, inertia 58228.339\n",
      "Iteration  9, inertia 58228.279\n",
      "Iteration 10, inertia 58228.245\n",
      "Iteration 11, inertia 58228.224\n",
      "Iteration 12, inertia 58228.209\n",
      "Iteration 13, inertia 58228.199\n",
      "Iteration 14, inertia 58228.193\n",
      "Iteration 15, inertia 58228.187\n",
      "Iteration 16, inertia 58228.181\n",
      "Iteration 17, inertia 58228.175\n",
      "Iteration 18, inertia 58228.170\n",
      "Iteration 19, inertia 58228.165\n",
      "Iteration 20, inertia 58228.161\n",
      "Iteration 21, inertia 58228.153\n",
      "Iteration 22, inertia 58228.148\n",
      "Iteration 23, inertia 58228.143\n",
      "Iteration 24, inertia 58228.139\n",
      "Iteration 25, inertia 58228.134\n",
      "Iteration 26, inertia 58228.127\n",
      "Iteration 27, inertia 58228.121\n",
      "Iteration 28, inertia 58228.116\n",
      "Iteration 29, inertia 58228.112\n",
      "Iteration 30, inertia 58228.107\n",
      "Iteration 31, inertia 58228.103\n",
      "Iteration 32, inertia 58228.099\n",
      "Iteration 33, inertia 58228.094\n",
      "Iteration 34, inertia 58228.089\n",
      "Iteration 35, inertia 58228.084\n",
      "Iteration 36, inertia 58228.080\n",
      "Iteration 37, inertia 58228.077\n",
      "Iteration 38, inertia 58228.073\n",
      "Iteration 39, inertia 58228.069\n",
      "Iteration 40, inertia 58228.067\n",
      "Iteration 41, inertia 58228.064\n",
      "Iteration 42, inertia 58228.061\n",
      "Iteration 43, inertia 58228.059\n",
      "Iteration 44, inertia 58228.055\n",
      "Iteration 45, inertia 58228.052\n",
      "Iteration 46, inertia 58228.049\n",
      "Iteration 47, inertia 58228.046\n",
      "Iteration 48, inertia 58228.041\n",
      "Iteration 49, inertia 58228.037\n",
      "Iteration 50, inertia 58228.031\n",
      "Iteration 51, inertia 58228.026\n",
      "Iteration 52, inertia 58228.020\n",
      "Iteration 53, inertia 58228.014\n",
      "Iteration 54, inertia 58228.007\n",
      "Iteration 55, inertia 58227.999\n",
      "Iteration 56, inertia 58227.990\n",
      "Iteration 57, inertia 58227.980\n",
      "Iteration 58, inertia 58227.967\n",
      "Iteration 59, inertia 58227.953\n",
      "Iteration 60, inertia 58227.939\n",
      "Iteration 61, inertia 58227.919\n",
      "Iteration 62, inertia 58227.898\n",
      "Iteration 63, inertia 58227.869\n",
      "Iteration 64, inertia 58227.824\n",
      "Iteration 65, inertia 58227.757\n",
      "Iteration 66, inertia 58227.594\n",
      "Iteration 67, inertia 58227.249\n",
      "Iteration 68, inertia 58226.789\n",
      "Iteration 69, inertia 58226.341\n",
      "Iteration 70, inertia 58225.927\n",
      "Iteration 71, inertia 58225.488\n",
      "Iteration 72, inertia 58225.146\n",
      "Iteration 73, inertia 58224.914\n",
      "Iteration 74, inertia 58224.774\n",
      "Iteration 75, inertia 58224.698\n",
      "Iteration 76, inertia 58224.654\n",
      "Iteration 77, inertia 58224.632\n",
      "Iteration 78, inertia 58224.621\n",
      "Iteration 79, inertia 58224.615\n",
      "Iteration 80, inertia 58224.610\n",
      "Iteration 81, inertia 58224.606\n",
      "Iteration 82, inertia 58224.604\n",
      "Iteration 83, inertia 58224.602\n",
      "Iteration 84, inertia 58224.602\n",
      "Iteration 85, inertia 58224.601\n",
      "Iteration 86, inertia 58224.601\n",
      "Iteration 87, inertia 58224.600\n",
      "Iteration 88, inertia 58224.600\n",
      "Iteration 89, inertia 58224.600\n",
      "Iteration 90, inertia 58224.600\n",
      "Iteration 91, inertia 58224.600\n",
      "Iteration 92, inertia 58224.600\n",
      "Converged at iteration 92: center shift 0.000000e+00 within tolerance 1.803739e-10\n",
      "Initialization complete\n",
      "Iteration  0, inertia 115852.884\n",
      "Iteration  1, inertia 58340.045\n",
      "Iteration  2, inertia 58276.720\n",
      "Iteration  3, inertia 58248.266\n",
      "Iteration  4, inertia 58229.618\n",
      "Iteration  5, inertia 58225.825\n",
      "Iteration  6, inertia 58223.213\n",
      "Iteration  7, inertia 58220.837\n",
      "Iteration  8, inertia 58219.389\n",
      "Iteration  9, inertia 58218.996\n",
      "Iteration 10, inertia 58218.908\n",
      "Iteration 11, inertia 58218.880\n",
      "Iteration 12, inertia 58218.860\n",
      "Iteration 13, inertia 58218.845\n",
      "Iteration 14, inertia 58218.831\n",
      "Iteration 15, inertia 58218.819\n",
      "Iteration 16, inertia 58218.805\n",
      "Iteration 17, inertia 58218.789\n",
      "Iteration 18, inertia 58218.774\n",
      "Iteration 19, inertia 58218.760\n",
      "Iteration 20, inertia 58218.746\n",
      "Iteration 21, inertia 58218.733\n",
      "Iteration 22, inertia 58218.720\n",
      "Iteration 23, inertia 58218.708\n",
      "Iteration 24, inertia 58218.698\n",
      "Iteration 25, inertia 58218.690\n",
      "Iteration 26, inertia 58218.684\n",
      "Iteration 27, inertia 58218.680\n",
      "Iteration 28, inertia 58218.675\n",
      "Iteration 29, inertia 58218.672\n",
      "Iteration 30, inertia 58218.669\n",
      "Iteration 31, inertia 58218.667\n",
      "Iteration 32, inertia 58218.665\n",
      "Iteration 33, inertia 58218.664\n",
      "Iteration 34, inertia 58218.662\n",
      "Iteration 35, inertia 58218.661\n",
      "Iteration 36, inertia 58218.659\n",
      "Iteration 37, inertia 58218.658\n",
      "Iteration 38, inertia 58218.657\n",
      "Iteration 39, inertia 58218.656\n",
      "Iteration 40, inertia 58218.655\n",
      "Iteration 41, inertia 58218.654\n",
      "Iteration 42, inertia 58218.654\n",
      "Iteration 43, inertia 58218.654\n",
      "Iteration 44, inertia 58218.654\n",
      "Iteration 45, inertia 58218.653\n",
      "Iteration 46, inertia 58218.653\n",
      "Iteration 47, inertia 58218.653\n",
      "Iteration 48, inertia 58218.653\n",
      "Iteration 49, inertia 58218.653\n",
      "Iteration 50, inertia 58218.653\n",
      "Iteration 51, inertia 58218.652\n",
      "Iteration 52, inertia 58218.652\n",
      "Iteration 53, inertia 58218.652\n",
      "Iteration 54, inertia 58218.652\n",
      "Iteration 55, inertia 58218.652\n",
      "Iteration 56, inertia 58218.652\n",
      "Iteration 57, inertia 58218.652\n",
      "Iteration 58, inertia 58218.651\n",
      "Iteration 59, inertia 58218.651\n",
      "Converged at iteration 59: center shift 0.000000e+00 within tolerance 1.803739e-10\n",
      "Initialization complete\n",
      "Iteration  0, inertia 116271.595\n",
      "Iteration  1, inertia 58331.385\n",
      "Iteration  2, inertia 58293.865\n",
      "Iteration  3, inertia 58273.580\n",
      "Iteration  4, inertia 58258.662\n",
      "Iteration  5, inertia 58249.167\n",
      "Iteration  6, inertia 58239.122\n",
      "Iteration  7, inertia 58234.589\n",
      "Iteration  8, inertia 58230.918\n",
      "Iteration  9, inertia 58227.055\n",
      "Iteration 10, inertia 58223.500\n",
      "Iteration 11, inertia 58220.799\n",
      "Iteration 12, inertia 58219.430\n",
      "Iteration 13, inertia 58218.934\n",
      "Iteration 14, inertia 58218.773\n",
      "Iteration 15, inertia 58218.718\n",
      "Iteration 16, inertia 58218.695\n",
      "Iteration 17, inertia 58218.685\n",
      "Iteration 18, inertia 58218.679\n",
      "Iteration 19, inertia 58218.674\n",
      "Iteration 20, inertia 58218.670\n",
      "Iteration 21, inertia 58218.667\n",
      "Iteration 22, inertia 58218.665\n",
      "Iteration 23, inertia 58218.664\n",
      "Iteration 24, inertia 58218.662\n",
      "Iteration 25, inertia 58218.660\n",
      "Iteration 26, inertia 58218.658\n",
      "Iteration 27, inertia 58218.656\n",
      "Iteration 28, inertia 58218.655\n",
      "Iteration 29, inertia 58218.654\n",
      "Iteration 30, inertia 58218.654\n",
      "Iteration 31, inertia 58218.654\n",
      "Iteration 32, inertia 58218.654\n",
      "Iteration 33, inertia 58218.653\n",
      "Iteration 34, inertia 58218.653\n",
      "Iteration 35, inertia 58218.652\n",
      "Iteration 36, inertia 58218.652\n",
      "Iteration 37, inertia 58218.652\n",
      "Iteration 38, inertia 58218.652\n",
      "Converged at iteration 38: center shift 0.000000e+00 within tolerance 1.803739e-10\n",
      "Initialization complete\n",
      "Iteration  0, inertia 115416.443\n",
      "Iteration  1, inertia 58236.393\n",
      "Iteration  2, inertia 58186.460\n",
      "Iteration  3, inertia 58180.442\n",
      "Iteration  4, inertia 58179.890\n",
      "Iteration  5, inertia 58179.704\n",
      "Iteration  6, inertia 58179.635\n",
      "Iteration  7, inertia 58179.607\n",
      "Iteration  8, inertia 58179.591\n",
      "Iteration  9, inertia 58179.584\n",
      "Iteration 10, inertia 58179.581\n",
      "Iteration 11, inertia 58179.579\n",
      "Iteration 12, inertia 58179.577\n",
      "Iteration 13, inertia 58179.576\n",
      "Iteration 14, inertia 58179.575\n",
      "Iteration 15, inertia 58179.575\n",
      "Iteration 16, inertia 58179.575\n",
      "Converged at iteration 16: center shift 0.000000e+00 within tolerance 1.803739e-10\n",
      "Initialization complete\n",
      "Iteration  0, inertia 115412.577\n",
      "Iteration  1, inertia 58251.021\n",
      "Iteration  2, inertia 58220.103\n",
      "Iteration  3, inertia 58212.599\n",
      "Iteration  4, inertia 58202.956\n",
      "Iteration  5, inertia 58184.547\n",
      "Iteration  6, inertia 58179.865\n",
      "Iteration  7, inertia 58179.673\n",
      "Iteration  8, inertia 58179.617\n",
      "Iteration  9, inertia 58179.596\n",
      "Iteration 10, inertia 58179.586\n",
      "Iteration 11, inertia 58179.582\n",
      "Iteration 12, inertia 58179.580\n",
      "Iteration 13, inertia 58179.578\n",
      "Iteration 14, inertia 58179.577\n",
      "Iteration 15, inertia 58179.576\n",
      "Iteration 16, inertia 58179.575\n",
      "Iteration 17, inertia 58179.575\n",
      "Iteration 18, inertia 58179.575\n",
      "Converged at iteration 18: center shift 0.000000e+00 within tolerance 1.803739e-10\n",
      "Fited\n",
      "End\n"
     ]
    }
   ],
   "source": [
    "wiki_data = {'matrix': tf_idf, 'dataframe': wiki} # no 'centroid' for the root cluster\n",
    "left_child, right_child = bipartition(wiki_data, maxiter=100, num_runs=6, seed=1)"
   ]
  },
  {
   "cell_type": "markdown",
   "metadata": {},
   "source": [
    "Let's examine the contents of one of the two clusters, which we call the `left_child`, referring to the tree visualization above."
   ]
  },
  {
   "cell_type": "code",
   "execution_count": 8,
   "metadata": {
    "collapsed": false
   },
   "outputs": [
    {
     "data": {
      "text/plain": [
       "{'centroid': array([  0.00000000e+00,   8.57526623e-06,   0.00000000e+00, ...,\n",
       "          1.38560691e-04,   6.46049863e-05,   2.26551103e-05]),\n",
       " 'dataframe': Columns:\n",
       " \tURI\tstr\n",
       " \tname\tstr\n",
       " \ttext\tstr\n",
       " \ttf_idf\tdict\n",
       " \n",
       " Rows: Unknown\n",
       " \n",
       " Data:\n",
       " +-------------------------------+-------------------------------+\n",
       " |              URI              |              name             |\n",
       " +-------------------------------+-------------------------------+\n",
       " | <http://dbpedia.org/resour... |         Digby Morrell         |\n",
       " | <http://dbpedia.org/resour... | Paddy Dunne (Gaelic footba... |\n",
       " | <http://dbpedia.org/resour... |         Ceiron Thomas         |\n",
       " | <http://dbpedia.org/resour... |          Adel Sellimi         |\n",
       " | <http://dbpedia.org/resour... |          Vic Stasiuk          |\n",
       " | <http://dbpedia.org/resour... |          Leon Hapgood         |\n",
       " | <http://dbpedia.org/resour... |           Dom Flora           |\n",
       " | <http://dbpedia.org/resour... |           Bob Reece           |\n",
       " | <http://dbpedia.org/resour... | Bob Adams (American football) |\n",
       " | <http://dbpedia.org/resour... |           Marc Logan          |\n",
       " +-------------------------------+-------------------------------+\n",
       " +-------------------------------+-------------------------------+\n",
       " |              text             |             tf_idf            |\n",
       " +-------------------------------+-------------------------------+\n",
       " | digby morrell born 10 octo... | {'since': 1.45537671730804... |\n",
       " | paddy dunne was a gaelic f... | {'all': 3.2862224869824943... |\n",
       " | ceiron thomas born 23 octo... | {'thomas': 19.921640781374... |\n",
       " | adel sellimi arabic was bo... | {'coach': 5.44426411898705... |\n",
       " | victor john stasiuk born m... | {'leagues': 3.892260543300... |\n",
       " | leon duane hapgood born 7 ... | {'albion': 5.6732894101834... |\n",
       " | dominick a dom flora born ... | {'all': 1.6431112434912472... |\n",
       " | robert scott reece born ja... | {'leagues': 3.892260543300... |\n",
       " | robert bruce bob adams bor... | {'coach': 8.16639617848058... |\n",
       " | marc anthony logan born ma... | {'cincinnati': 4.392081929... |\n",
       " +-------------------------------+-------------------------------+\n",
       " [? rows x 4 columns]\n",
       " Note: Only the head of the SFrame is printed. This SFrame is lazily evaluated.\n",
       " You can use sf.materialize() to force materialization.,\n",
       " 'matrix': <11510x547979 sparse matrix of type '<type 'numpy.float64'>'\n",
       " \twith 1885831 stored elements in Compressed Sparse Row format>}"
      ]
     },
     "execution_count": 8,
     "metadata": {},
     "output_type": "execute_result"
    }
   ],
   "source": [
    "left_child"
   ]
  },
  {
   "cell_type": "markdown",
   "metadata": {},
   "source": [
    "And here is the content of the other cluster we named `right_child`."
   ]
  },
  {
   "cell_type": "code",
   "execution_count": 9,
   "metadata": {
    "collapsed": false
   },
   "outputs": [
    {
     "data": {
      "text/plain": [
       "{'centroid': array([  3.00882137e-06,   0.00000000e+00,   2.88868244e-06, ...,\n",
       "          1.10291526e-04,   9.00609890e-05,   2.03703564e-05]),\n",
       " 'dataframe': Columns:\n",
       " \tURI\tstr\n",
       " \tname\tstr\n",
       " \ttext\tstr\n",
       " \ttf_idf\tdict\n",
       " \n",
       " Rows: Unknown\n",
       " \n",
       " Data:\n",
       " +-------------------------------+---------------------+\n",
       " |              URI              |         name        |\n",
       " +-------------------------------+---------------------+\n",
       " | <http://dbpedia.org/resour... |    Alfred J. Lewy   |\n",
       " | <http://dbpedia.org/resour... |    Harpdog Brown    |\n",
       " | <http://dbpedia.org/resour... | Franz Rottensteiner |\n",
       " | <http://dbpedia.org/resour... |        G-Enka       |\n",
       " | <http://dbpedia.org/resour... |    Sam Henderson    |\n",
       " | <http://dbpedia.org/resour... |    Aaron LaCrate    |\n",
       " | <http://dbpedia.org/resour... |   Trevor Ferguson   |\n",
       " | <http://dbpedia.org/resour... |     Grant Nelson    |\n",
       " | <http://dbpedia.org/resour... |     Cathy Caruth    |\n",
       " | <http://dbpedia.org/resour... |     Sophie Crumb    |\n",
       " +-------------------------------+---------------------+\n",
       " +-------------------------------+-------------------------------+\n",
       " |              text             |             tf_idf            |\n",
       " +-------------------------------+-------------------------------+\n",
       " | alfred j lewy aka sandy le... | {'precise': 6.443200606955... |\n",
       " | harpdog brown is a singer ... | {'just': 2.700729968710864... |\n",
       " | franz rottensteiner born i... | {'all': 1.6431112434912472... |\n",
       " | henry krvits born 30 decem... | {'legendary': 4.2808562943... |\n",
       " | sam henderson born october... | {'now': 1.96695239252401, ... |\n",
       " | aaron lacrate is an americ... | {'exclusive': 10.455187230... |\n",
       " | trevor ferguson aka john f... | {'taxi': 6.052021456094502... |\n",
       " | grant nelson born 27 april... | {'houston': 3.935505942157... |\n",
       " | cathy caruth born 1955 is ... | {'phenomenon': 5.750053426... |\n",
       " | sophia violet sophie crumb... | {'zwigoff': 20.58669641733... |\n",
       " +-------------------------------+-------------------------------+\n",
       " [? rows x 4 columns]\n",
       " Note: Only the head of the SFrame is printed. This SFrame is lazily evaluated.\n",
       " You can use sf.materialize() to force materialization.,\n",
       " 'matrix': <47561x547979 sparse matrix of type '<type 'numpy.float64'>'\n",
       " \twith 8493452 stored elements in Compressed Sparse Row format>}"
      ]
     },
     "execution_count": 9,
     "metadata": {},
     "output_type": "execute_result"
    }
   ],
   "source": [
    "right_child"
   ]
  },
  {
   "cell_type": "markdown",
   "metadata": {},
   "source": [
    "## Visualize the bipartition"
   ]
  },
  {
   "cell_type": "markdown",
   "metadata": {},
   "source": [
    "We provide you with a modified version of the visualization function from the k-means assignment. For each cluster, we print the top 5 words with highest TF-IDF weights in the centroid and display excerpts for the 8 nearest neighbors of the centroid."
   ]
  },
  {
   "cell_type": "code",
   "execution_count": 10,
   "metadata": {
    "collapsed": false,
    "scrolled": true
   },
   "outputs": [],
   "source": [
    "def display_single_tf_idf_cluster(cluster, map_index_to_word):\n",
    "    '''map_index_to_word: SFrame specifying the mapping betweeen words and column indices'''\n",
    "    \n",
    "    wiki_subset   = cluster['dataframe']\n",
    "    tf_idf_subset = cluster['matrix']\n",
    "    centroid      = cluster['centroid']\n",
    "    \n",
    "    # Print top 5 words with largest TF-IDF weights in the cluster\n",
    "    idx = centroid.argsort()[::-1]\n",
    "    for i in xrange(5):\n",
    "        print('{0:s}:{1:.3f}'.format(map_index_to_word['category'][idx[i]], centroid[idx[i]])),\n",
    "    print('')\n",
    "    \n",
    "    # Compute distances from the centroid to all data points in the cluster.\n",
    "    distances = pairwise_distances(tf_idf_subset, [centroid], metric='euclidean').flatten()\n",
    "    # compute nearest neighbors of the centroid within the cluster.\n",
    "    nearest_neighbors = distances.argsort()\n",
    "    # For 8 nearest neighbors, print the title as well as first 180 characters of text.\n",
    "    # Wrap the text at 80-character mark.\n",
    "    for i in xrange(8):\n",
    "        text = ' '.join(wiki_subset[nearest_neighbors[i]]['text'].split(None, 25)[0:25])\n",
    "        print('* {0:50s} {1:.5f}\\n  {2:s}\\n  {3:s}'.format(wiki_subset[nearest_neighbors[i]]['name'],\n",
    "              distances[nearest_neighbors[i]], text[:90], text[90:180] if len(text) > 90 else ''))\n",
    "    print('')"
   ]
  },
  {
   "cell_type": "markdown",
   "metadata": {},
   "source": [
    "Let's visualize the two child clusters:"
   ]
  },
  {
   "cell_type": "code",
   "execution_count": 11,
   "metadata": {
    "collapsed": false
   },
   "outputs": [
    {
     "name": "stdout",
     "output_type": "stream",
     "text": [
      "league:0.040 season:0.036 team:0.029 football:0.029 played:0.028 \n",
      "* Todd Williams                                      0.95468\n",
      "  todd michael williams born february 13 1971 in syracuse new york is a former major league \n",
      "  baseball relief pitcher he attended east syracuseminoa high school\n",
      "* Gord Sherven                                       0.95622\n",
      "  gordon r sherven born august 21 1963 in gravelbourg saskatchewan and raised in mankota sas\n",
      "  katchewan is a retired canadian professional ice hockey forward who played\n",
      "* Justin Knoedler                                    0.95639\n",
      "  justin joseph knoedler born july 17 1980 in springfield illinois is a former major league \n",
      "  baseball catcherknoedler was originally drafted by the st louis cardinals\n",
      "* Chris Day                                          0.95648\n",
      "  christopher nicholas chris day born 28 july 1975 is an english professional footballer who\n",
      "   plays as a goalkeeper for stevenageday started his career at tottenham\n",
      "* Tony Smith (footballer, born 1957)                 0.95653\n",
      "  anthony tony smith born 20 february 1957 is a former footballer who played as a central de\n",
      "  fender in the football league in the 1970s and\n",
      "* Ashley Prescott                                    0.95761\n",
      "  ashley prescott born 11 september 1972 is a former australian rules footballer he played w\n",
      "  ith the richmond and fremantle football clubs in the afl between\n",
      "* Leslie Lea                                         0.95802\n",
      "  leslie lea born 5 october 1942 in manchester is an english former professional footballer \n",
      "  he played as a midfielderlea began his professional career with blackpool\n",
      "* Tommy Anderson (footballer)                        0.95818\n",
      "  thomas cowan tommy anderson born 24 september 1934 in haddington is a scottish former prof\n",
      "  essional footballer he played as a forward and was noted for\n",
      "\n"
     ]
    }
   ],
   "source": [
    "display_single_tf_idf_cluster(left_child, map_index_to_word)"
   ]
  },
  {
   "cell_type": "code",
   "execution_count": 12,
   "metadata": {
    "collapsed": false
   },
   "outputs": [
    {
     "name": "stdout",
     "output_type": "stream",
     "text": [
      "she:0.025 her:0.017 music:0.012 he:0.011 university:0.011 \n",
      "* Anita Kunz                                         0.97401\n",
      "  anita e kunz oc born 1956 is a canadianborn artist and illustratorkunz has lived in london\n",
      "   new york and toronto contributing to magazines and working\n",
      "* Janet Jackson                                      0.97472\n",
      "  janet damita jo jackson born may 16 1966 is an american singer songwriter and actress know\n",
      "  n for a series of sonically innovative socially conscious and\n",
      "* Madonna (entertainer)                              0.97475\n",
      "  madonna louise ciccone tkoni born august 16 1958 is an american singer songwriter actress \n",
      "  and businesswoman she achieved popularity by pushing the boundaries of lyrical\n",
      "* %C3%81ine Hyland                                   0.97536\n",
      "  ine hyland ne donlon is emeritus professor of education and former vicepresident of univer\n",
      "  sity college cork ireland she was born in 1942 in athboy co\n",
      "* Jane Fonda                                         0.97621\n",
      "  jane fonda born lady jayne seymour fonda december 21 1937 is an american actress writer po\n",
      "  litical activist former fashion model and fitness guru she is\n",
      "* Christine Robertson                                0.97643\n",
      "  christine mary robertson born 5 october 1948 is an australian politician and former austra\n",
      "  lian labor party member of the new south wales legislative council serving\n",
      "* Pat Studdy-Clift                                   0.97643\n",
      "  pat studdyclift is an australian author specialising in historical fiction and nonfictionb\n",
      "  orn in 1925 she lived in gunnedah until she was sent to a boarding\n",
      "* Alexandra Potter                                   0.97646\n",
      "  alexandra potter born 1970 is a british author of romantic comediesborn in bradford yorksh\n",
      "  ire england and educated at liverpool university gaining an honors degree in\n",
      "\n"
     ]
    }
   ],
   "source": [
    "display_single_tf_idf_cluster(right_child, map_index_to_word)"
   ]
  },
  {
   "cell_type": "markdown",
   "metadata": {},
   "source": [
    "The left cluster consists of athletes, whereas the right cluster consists of non-athletes. So far, we have a single-level hierarchy consisting of two clusters, as follows:"
   ]
  },
  {
   "cell_type": "markdown",
   "metadata": {},
   "source": [
    "```\n",
    "                                           Wikipedia\n",
    "                                               +\n",
    "                                               |\n",
    "                    +--------------------------+--------------------+\n",
    "                    |                                               |\n",
    "                    +                                               +\n",
    "                 Athletes                                      Non-athletes\n",
    "```"
   ]
  },
  {
   "cell_type": "markdown",
   "metadata": {},
   "source": [
    "Is this hierarchy good enough? **When building a hierarchy of clusters, we must keep our particular application in mind.** For instance, we might want to build a **directory** for Wikipedia articles. A good directory would let you quickly narrow down your search to a small set of related articles. The categories of athletes and non-athletes are too general to facilitate efficient search. For this reason, we decide to build another level into our hierarchy of clusters with the goal of getting more specific cluster structure at the lower level. To that end, we subdivide both the `athletes` and `non-athletes` clusters."
   ]
  },
  {
   "cell_type": "markdown",
   "metadata": {},
   "source": [
    "## Perform recursive bipartitioning"
   ]
  },
  {
   "cell_type": "markdown",
   "metadata": {},
   "source": [
    "### Cluster of athletes"
   ]
  },
  {
   "cell_type": "markdown",
   "metadata": {},
   "source": [
    "To help identify the clusters we've built so far, let's give them easy-to-read aliases:"
   ]
  },
  {
   "cell_type": "code",
   "execution_count": 13,
   "metadata": {
    "collapsed": true
   },
   "outputs": [],
   "source": [
    "athletes = left_child\n",
    "non_athletes = right_child"
   ]
  },
  {
   "cell_type": "markdown",
   "metadata": {},
   "source": [
    "Using the bipartition function, we produce two child clusters of the athlete cluster:"
   ]
  },
  {
   "cell_type": "code",
   "execution_count": 14,
   "metadata": {
    "collapsed": false,
    "scrolled": true
   },
   "outputs": [
    {
     "name": "stdout",
     "output_type": "stream",
     "text": [
      "Fiting\n",
      "Initialization complete\n",
      "Iteration  0, inertia 21880.358\n",
      "Iteration  1, inertia 11161.130\n",
      "Iteration  2, inertia 11148.967\n",
      "Iteration  3, inertia 11137.437\n",
      "Iteration  4, inertia 11136.021\n",
      "Iteration  5, inertia 11135.937\n",
      "Iteration  6, inertia 11135.925\n",
      "Iteration  7, inertia 11135.921\n",
      "Converged at iteration 7: center shift 0.000000e+00 within tolerance 1.773880e-10\n",
      "Initialization complete\n",
      "Iteration  0, inertia 22082.265\n",
      "Iteration  1, inertia 11156.365\n",
      "Iteration  2, inertia 11119.674\n",
      "Iteration  3, inertia 11112.811\n",
      "Iteration  4, inertia 11112.159\n",
      "Iteration  5, inertia 11111.968\n",
      "Iteration  6, inertia 11111.919\n",
      "Iteration  7, inertia 11111.901\n",
      "Iteration  8, inertia 11111.893\n",
      "Iteration  9, inertia 11111.888\n",
      "Iteration 10, inertia 11111.885\n",
      "Iteration 11, inertia 11111.883\n",
      "Iteration 12, inertia 11111.882\n",
      "Converged at iteration 12: center shift 0.000000e+00 within tolerance 1.773880e-10\n",
      "Initialization complete\n",
      "Iteration  0, inertia 21796.318\n",
      "Iteration  1, inertia 11126.350\n",
      "Iteration  2, inertia 11092.375\n",
      "Iteration  3, inertia 11092.245\n",
      "Iteration  4, inertia 11092.239\n",
      "Converged at iteration 4: center shift 0.000000e+00 within tolerance 1.773880e-10\n",
      "Initialization complete\n",
      "Iteration  0, inertia 22007.714\n",
      "Iteration  1, inertia 11122.829\n",
      "Iteration  2, inertia 11107.171\n",
      "Iteration  3, inertia 11104.658\n",
      "Iteration  4, inertia 11103.251\n",
      "Iteration  5, inertia 11103.120\n",
      "Iteration  6, inertia 11103.107\n",
      "Iteration  7, inertia 11103.106\n",
      "Converged at iteration 7: center shift 0.000000e+00 within tolerance 1.773880e-10\n",
      "Initialization complete\n",
      "Iteration  0, inertia 22315.620\n",
      "Iteration  1, inertia 11119.459\n",
      "Iteration  2, inertia 11105.546\n",
      "Iteration  3, inertia 11103.757\n",
      "Iteration  4, inertia 11103.221\n",
      "Iteration  5, inertia 11103.116\n",
      "Iteration  6, inertia 11103.107\n",
      "Iteration  7, inertia 11103.106\n",
      "Converged at iteration 7: center shift 0.000000e+00 within tolerance 1.773880e-10\n",
      "Initialization complete\n",
      "Iteration  0, inertia 21837.508\n",
      "Iteration  1, inertia 11107.411\n",
      "Iteration  2, inertia 11093.149\n",
      "Iteration  3, inertia 11092.251\n",
      "Iteration  4, inertia 11092.240\n",
      "Iteration  5, inertia 11092.239\n",
      "Converged at iteration 5: center shift 0.000000e+00 within tolerance 1.773880e-10\n",
      "Fited\n",
      "End\n"
     ]
    }
   ],
   "source": [
    "# Bipartition the cluster of athletes\n",
    "left_child_athletes, right_child_athletes = bipartition(athletes, maxiter=100, num_runs=6, seed=1)"
   ]
  },
  {
   "cell_type": "markdown",
   "metadata": {},
   "source": [
    "The left child cluster mainly consists of baseball players:"
   ]
  },
  {
   "cell_type": "code",
   "execution_count": 15,
   "metadata": {
    "collapsed": false
   },
   "outputs": [
    {
     "name": "stdout",
     "output_type": "stream",
     "text": [
      "baseball:0.111 league:0.103 major:0.051 games:0.046 season:0.045 \n",
      "* Steve Springer                                     0.89344\n",
      "  steven michael springer born february 11 1961 is an american former professional baseball \n",
      "  player who appeared in major league baseball as a third baseman and\n",
      "* Dave Ford                                          0.89598\n",
      "  david alan ford born december 29 1956 is a former major league baseball pitcher for the ba\n",
      "  ltimore orioles born in cleveland ohio ford attended lincolnwest\n",
      "* Todd Williams                                      0.89823\n",
      "  todd michael williams born february 13 1971 in syracuse new york is a former major league \n",
      "  baseball relief pitcher he attended east syracuseminoa high school\n",
      "* Justin Knoedler                                    0.90097\n",
      "  justin joseph knoedler born july 17 1980 in springfield illinois is a former major league \n",
      "  baseball catcherknoedler was originally drafted by the st louis cardinals\n",
      "* Kevin Nicholson (baseball)                         0.90607\n",
      "  kevin ronald nicholson born march 29 1976 is a canadian baseball shortstop he played part \n",
      "  of the 2000 season for the san diego padres of\n",
      "* Joe Strong                                         0.90638\n",
      "  joseph benjamin strong born september 9 1962 in fairfield california is a former major lea\n",
      "  gue baseball pitcher who played for the florida marlins from 2000\n",
      "* James Baldwin (baseball)                           0.90674\n",
      "  james j baldwin jr born july 15 1971 is a former major league baseball pitcher he batted a\n",
      "  nd threw righthanded in his 11season career he\n",
      "* James Garcia                                       0.90729\n",
      "  james robert garcia born february 3 1980 is an american former professional baseball pitch\n",
      "  er who played in the san francisco giants minor league system as\n",
      "\n"
     ]
    }
   ],
   "source": [
    "display_single_tf_idf_cluster(left_child_athletes, map_index_to_word)"
   ]
  },
  {
   "cell_type": "markdown",
   "metadata": {},
   "source": [
    "On the other hand, the right child cluster is a mix of players in association football, Austrailian rules football and ice hockey:"
   ]
  },
  {
   "cell_type": "code",
   "execution_count": 16,
   "metadata": {
    "collapsed": false
   },
   "outputs": [
    {
     "name": "stdout",
     "output_type": "stream",
     "text": [
      "season:0.034 football:0.033 team:0.031 league:0.029 played:0.027 \n",
      "* Gord Sherven                                       0.95562\n",
      "  gordon r sherven born august 21 1963 in gravelbourg saskatchewan and raised in mankota sas\n",
      "  katchewan is a retired canadian professional ice hockey forward who played\n",
      "* Ashley Prescott                                    0.95656\n",
      "  ashley prescott born 11 september 1972 is a former australian rules footballer he played w\n",
      "  ith the richmond and fremantle football clubs in the afl between\n",
      "* Chris Day                                          0.95656\n",
      "  christopher nicholas chris day born 28 july 1975 is an english professional footballer who\n",
      "   plays as a goalkeeper for stevenageday started his career at tottenham\n",
      "* Jason Roberts (footballer)                         0.95658\n",
      "  jason andre davis roberts mbe born 25 january 1978 is a former professional footballer and\n",
      "   now a football punditborn in park royal london roberts was\n",
      "* Todd Curley                                        0.95743\n",
      "  todd curley born 14 january 1973 is a former australian rules footballer who played for co\n",
      "  llingwood and the western bulldogs in the australian football league\n",
      "* Tony Smith (footballer, born 1957)                 0.95801\n",
      "  anthony tony smith born 20 february 1957 is a former footballer who played as a central de\n",
      "  fender in the football league in the 1970s and\n",
      "* Sol Campbell                                       0.95802\n",
      "  sulzeer jeremiah sol campbell born 18 september 1974 is a former england international foo\n",
      "  tballer a central defender he had a 19year career playing in the\n",
      "* Richard Ambrose                                    0.95924\n",
      "  richard ambrose born 10 june 1972 is a former australian rules footballer who played with \n",
      "  the sydney swans in the australian football league afl he\n",
      "\n"
     ]
    }
   ],
   "source": [
    "display_single_tf_idf_cluster(right_child_athletes, map_index_to_word)"
   ]
  },
  {
   "cell_type": "markdown",
   "metadata": {},
   "source": [
    "Our hierarchy of clusters now looks like this:\n",
    "```\n",
    "                                           Wikipedia\n",
    "                                               +\n",
    "                                               |\n",
    "                    +--------------------------+--------------------+\n",
    "                    |                                               |\n",
    "                    +                                               +\n",
    "                 Athletes                                      Non-athletes\n",
    "                    +\n",
    "                    |\n",
    "        +-----------+--------+\n",
    "        |                    |\n",
    "        |            association football/\n",
    "        +          Austrailian rules football/\n",
    "     baseball             ice hockey\n",
    "```"
   ]
  },
  {
   "cell_type": "markdown",
   "metadata": {},
   "source": [
    "Should we keep subdividing the clusters? If so, which cluster should we subdivide? To answer this question, we again think about our application. Since we organize our directory by topics, it would be nice to have topics that are about as coarse as each other. For instance, if one cluster is about baseball, we expect some other clusters about football, basketball, volleyball, and so forth. That is, **we would like to achieve similar level of granularity for all clusters.**\n",
    "\n",
    "Notice that the right child cluster is more coarse than the left child cluster. The right cluster posseses a greater variety of topics than the left (ice hockey/association football/Austrialian football vs. baseball). So the right child cluster should be subdivided further to produce finer child clusters."
   ]
  },
  {
   "cell_type": "markdown",
   "metadata": {},
   "source": [
    "Let's give the clusters aliases as well:"
   ]
  },
  {
   "cell_type": "code",
   "execution_count": 17,
   "metadata": {
    "collapsed": true
   },
   "outputs": [],
   "source": [
    "baseball            = left_child_athletes\n",
    "ice_hockey_football = right_child_athletes"
   ]
  },
  {
   "cell_type": "markdown",
   "metadata": {},
   "source": [
    "### Cluster of ice hockey players and football players"
   ]
  },
  {
   "cell_type": "markdown",
   "metadata": {},
   "source": [
    "In answering the following quiz question, take a look at the topics represented in the top documents (those closest to the centroid), as well as the list of words with highest TF-IDF weights.\n",
    "\n",
    "Let us bipartition the cluster of ice hockey and football players."
   ]
  },
  {
   "cell_type": "code",
   "execution_count": 18,
   "metadata": {
    "collapsed": false,
    "scrolled": true
   },
   "outputs": [
    {
     "name": "stdout",
     "output_type": "stream",
     "text": [
      "Fiting\n",
      "Initialization complete\n",
      "Iteration  0, inertia 18838.009\n",
      "Iteration  1, inertia 9450.606\n",
      "Iteration  2, inertia 9431.201\n",
      "Iteration  3, inertia 9415.277\n",
      "Iteration  4, inertia 9412.805\n",
      "Iteration  5, inertia 9412.659\n",
      "Iteration  6, inertia 9412.625\n",
      "Iteration  7, inertia 9412.592\n",
      "Iteration  8, inertia 9412.545\n",
      "Iteration  9, inertia 9412.447\n",
      "Iteration 10, inertia 9412.257\n",
      "Iteration 11, inertia 9412.011\n",
      "Iteration 12, inertia 9411.855\n",
      "Iteration 13, inertia 9411.487\n",
      "Iteration 14, inertia 9408.346\n",
      "Iteration 15, inertia 9405.823\n",
      "Iteration 16, inertia 9405.797\n",
      "Iteration 17, inertia 9405.781\n",
      "Iteration 18, inertia 9405.773\n",
      "Iteration 19, inertia 9405.769\n",
      "Iteration 20, inertia 9405.768\n",
      "Iteration 21, inertia 9405.768\n",
      "Converged at iteration 21: center shift 0.000000e+00 within tolerance 1.774290e-10\n",
      "Initialization complete\n",
      "Iteration  0, inertia 18712.753\n",
      "Iteration  1, inertia 9438.013\n",
      "Iteration  2, inertia 9419.381\n",
      "Iteration  3, inertia 9417.893\n",
      "Iteration  4, inertia 9417.771\n",
      "Iteration  5, inertia 9417.687\n",
      "Iteration  6, inertia 9417.594\n",
      "Iteration  7, inertia 9417.544\n",
      "Iteration  8, inertia 9417.540\n",
      "Iteration  9, inertia 9417.536\n",
      "Iteration 10, inertia 9417.535\n",
      "Iteration 11, inertia 9417.534\n",
      "Converged at iteration 11: center shift 0.000000e+00 within tolerance 1.774290e-10\n",
      "Initialization complete\n",
      "Iteration  0, inertia 18509.228\n",
      "Iteration  1, inertia 9418.327\n",
      "Iteration  2, inertia 9407.754\n",
      "Iteration  3, inertia 9407.638\n",
      "Iteration  4, inertia 9407.630\n",
      "Iteration  5, inertia 9407.627\n",
      "Iteration  6, inertia 9407.626\n",
      "Iteration  7, inertia 9407.624\n",
      "Iteration  8, inertia 9407.624\n",
      "Converged at iteration 8: center shift 0.000000e+00 within tolerance 1.774290e-10\n",
      "Initialization complete\n",
      "Iteration  0, inertia 18565.429\n",
      "Iteration  1, inertia 9442.125\n",
      "Iteration  2, inertia 9419.691\n",
      "Iteration  3, inertia 9413.876\n",
      "Iteration  4, inertia 9412.350\n",
      "Iteration  5, inertia 9412.200\n",
      "Iteration  6, inertia 9412.070\n",
      "Iteration  7, inertia 9411.932\n",
      "Iteration  8, inertia 9411.647\n",
      "Iteration  9, inertia 9410.683\n",
      "Iteration 10, inertia 9405.110\n",
      "Iteration 11, inertia 9402.540\n",
      "Iteration 12, inertia 9400.471\n",
      "Iteration 13, inertia 9399.240\n",
      "Iteration 14, inertia 9399.035\n",
      "Iteration 15, inertia 9399.020\n",
      "Iteration 16, inertia 9399.019\n",
      "Iteration 17, inertia 9399.018\n",
      "Converged at iteration 17: center shift 0.000000e+00 within tolerance 1.774290e-10\n",
      "Initialization complete\n",
      "Iteration  0, inertia 18980.763\n",
      "Iteration  1, inertia 9430.781\n",
      "Iteration  2, inertia 9399.657\n",
      "Iteration  3, inertia 9399.034\n",
      "Iteration  4, inertia 9399.022\n",
      "Iteration  5, inertia 9399.019\n",
      "Iteration  6, inertia 9399.018\n",
      "Converged at iteration 6: center shift 0.000000e+00 within tolerance 1.774290e-10\n",
      "Initialization complete\n",
      "Iteration  0, inertia 18675.378\n",
      "Iteration  1, inertia 9423.292\n",
      "Iteration  2, inertia 9407.549\n",
      "Iteration  3, inertia 9407.145\n",
      "Iteration  4, inertia 9406.730\n",
      "Iteration  5, inertia 9406.322\n",
      "Iteration  6, inertia 9406.032\n",
      "Iteration  7, inertia 9405.916\n",
      "Iteration  8, inertia 9405.852\n",
      "Iteration  9, inertia 9405.814\n",
      "Iteration 10, inertia 9405.791\n",
      "Iteration 11, inertia 9405.780\n",
      "Iteration 12, inertia 9405.773\n",
      "Iteration 13, inertia 9405.769\n",
      "Iteration 14, inertia 9405.768\n",
      "Iteration 15, inertia 9405.768\n",
      "Converged at iteration 15: center shift 0.000000e+00 within tolerance 1.774290e-10\n",
      "Fited\n",
      "End\n",
      "football:0.048 season:0.043 league:0.041 played:0.036 coach:0.034 \n",
      "* Todd Curley                                        0.94578\n",
      "  todd curley born 14 january 1973 is a former australian rules footballer who played for co\n",
      "  llingwood and the western bulldogs in the australian football league\n",
      "* Tony Smith (footballer, born 1957)                 0.94606\n",
      "  anthony tony smith born 20 february 1957 is a former footballer who played as a central de\n",
      "  fender in the football league in the 1970s and\n",
      "* Chris Day                                          0.94623\n",
      "  christopher nicholas chris day born 28 july 1975 is an english professional footballer who\n",
      "   plays as a goalkeeper for stevenageday started his career at tottenham\n",
      "* Ashley Prescott                                    0.94632\n",
      "  ashley prescott born 11 september 1972 is a former australian rules footballer he played w\n",
      "  ith the richmond and fremantle football clubs in the afl between\n",
      "* Jason Roberts (footballer)                         0.94633\n",
      "  jason andre davis roberts mbe born 25 january 1978 is a former professional footballer and\n",
      "   now a football punditborn in park royal london roberts was\n",
      "* David Hamilton (footballer)                        0.94925\n",
      "  david hamilton born 7 november 1960 is an english former professional association football\n",
      "   player who played as a midfielder he won caps for the england\n",
      "* Richard Ambrose                                    0.94941\n",
      "  richard ambrose born 10 june 1972 is a former australian rules footballer who played with \n",
      "  the sydney swans in the australian football league afl he\n",
      "* Neil Grayson                                       0.94958\n",
      "  neil grayson born 1 november 1964 in york is an english footballer who last played as a st\n",
      "  riker for sutton towngraysons first club was local\n",
      "\n",
      "championships:0.045 tour:0.043 championship:0.035 world:0.031 won:0.031 \n",
      "* Alessandra Aguilar                                 0.93856\n",
      "  alessandra aguilar born 1 july 1978 in lugo is a spanish longdistance runner who specialis\n",
      "  es in marathon running she represented her country in the event\n",
      "* Heather Samuel                                     0.93973\n",
      "  heather barbara samuel born 6 july 1970 is a retired sprinter from antigua and barbuda who\n",
      "   specialized in the 100 and 200 metres in 1990\n",
      "* Viola Kibiwot                                      0.94015\n",
      "  viola jelagat kibiwot born december 22 1983 in keiyo district is a runner from kenya who s\n",
      "  pecialises in the 1500 metres kibiwot won her first\n",
      "* Ayelech Worku                                      0.94031\n",
      "  ayelech worku born june 12 1979 is an ethiopian longdistance runner most known for winning\n",
      "   two world championships bronze medals on the 5000 metres she\n",
      "* Krisztina Papp                                     0.94077\n",
      "  krisztina papp born 17 december 1982 in eger is a hungarian long distance runner she is th\n",
      "  e national indoor record holder over 5000 mpapp began\n",
      "* Petra Lammert                                      0.94215\n",
      "  petra lammert born 3 march 1984 in freudenstadt badenwrttemberg is a former german shot pu\n",
      "  tter and current bobsledder she was the 2009 european indoor champion\n",
      "* Morhad Amdouni                                     0.94217\n",
      "  morhad amdouni born 21 january 1988 in portovecchio is a french middle and longdistance ru\n",
      "  nner he was european junior champion in track and cross country\n",
      "* Brian Davis (golfer)                               0.94369\n",
      "  brian lester davis born 2 august 1974 is an english professional golferdavis was born in l\n",
      "  ondon he turned professional in 1994 and became a member\n",
      "\n"
     ]
    }
   ],
   "source": [
    "left_child_ihs, right_child_ihs = bipartition(ice_hockey_football, maxiter=100, num_runs=6, seed=1)\n",
    "display_single_tf_idf_cluster(left_child_ihs, map_index_to_word)\n",
    "display_single_tf_idf_cluster(right_child_ihs, map_index_to_word)"
   ]
  },
  {
   "cell_type": "markdown",
   "metadata": {},
   "source": [
    "**Quiz Question**. Which diagram best describes the hierarchy right after splitting the `ice_hockey_football` cluster? Refer to the quiz form for the diagrams."
   ]
  },
  {
   "cell_type": "markdown",
   "metadata": {},
   "source": [
    "**Caution**. The granularity criteria is an imperfect heuristic and must be taken with a grain of salt. It takes a lot of manual intervention to obtain a good hierarchy of clusters.\n",
    "\n",
    "* **If a cluster is highly mixed, the top articles and words may not convey the full picture of the cluster.** Thus, we may be misled if we judge the purity of clusters solely by their top documents and words. \n",
    "* **Many interesting topics are hidden somewhere inside the clusters but do not appear in the visualization.** We may need to subdivide further to discover new topics. For instance, subdividing the `ice_hockey_football` cluster led to the appearance of runners and golfers."
   ]
  },
  {
   "cell_type": "markdown",
   "metadata": {},
   "source": [
    "### Cluster of non-athletes"
   ]
  },
  {
   "cell_type": "markdown",
   "metadata": {},
   "source": [
    "Now let us subdivide the cluster of non-athletes."
   ]
  },
  {
   "cell_type": "code",
   "execution_count": 19,
   "metadata": {
    "collapsed": false,
    "scrolled": true
   },
   "outputs": [
    {
     "name": "stdout",
     "output_type": "stream",
     "text": [
      "Fiting\n",
      "Initialization complete\n",
      "Iteration  0, inertia 93155.499\n",
      "Iteration  1, inertia 46859.208\n",
      "Iteration  2, inertia 46846.249\n",
      "Iteration  3, inertia 46845.145\n",
      "Iteration  4, inertia 46844.880\n",
      "Iteration  5, inertia 46844.818\n",
      "Iteration  6, inertia 46844.797\n",
      "Iteration  7, inertia 46844.784\n",
      "Iteration  8, inertia 46844.777\n",
      "Iteration  9, inertia 46844.771\n",
      "Iteration 10, inertia 46844.767\n",
      "Iteration 11, inertia 46844.764\n",
      "Iteration 12, inertia 46844.762\n",
      "Iteration 13, inertia 46844.761\n",
      "Iteration 14, inertia 46844.761\n",
      "Iteration 15, inertia 46844.761\n",
      "Converged at iteration 15: center shift 0.000000e+00 within tolerance 1.803028e-10\n",
      "Initialization complete\n",
      "Iteration  0, inertia 93255.369\n",
      "Iteration  1, inertia 46865.288\n",
      "Iteration  2, inertia 46846.007\n",
      "Iteration  3, inertia 46845.303\n",
      "Iteration  4, inertia 46845.140\n",
      "Iteration  5, inertia 46845.070\n",
      "Iteration  6, inertia 46845.030\n",
      "Iteration  7, inertia 46844.996\n",
      "Iteration  8, inertia 46844.961\n",
      "Iteration  9, inertia 46844.929\n",
      "Iteration 10, inertia 46844.898\n",
      "Iteration 11, inertia 46844.871\n",
      "Iteration 12, inertia 46844.851\n",
      "Iteration 13, inertia 46844.832\n",
      "Iteration 14, inertia 46844.817\n",
      "Iteration 15, inertia 46844.805\n",
      "Iteration 16, inertia 46844.793\n",
      "Iteration 17, inertia 46844.786\n",
      "Iteration 18, inertia 46844.779\n",
      "Iteration 19, inertia 46844.773\n",
      "Iteration 20, inertia 46844.769\n",
      "Iteration 21, inertia 46844.766\n",
      "Iteration 22, inertia 46844.764\n",
      "Iteration 23, inertia 46844.762\n",
      "Iteration 24, inertia 46844.761\n",
      "Iteration 25, inertia 46844.761\n",
      "Iteration 26, inertia 46844.761\n",
      "Converged at iteration 26: center shift 0.000000e+00 within tolerance 1.803028e-10\n",
      "Initialization complete\n",
      "Iteration  0, inertia 93532.723\n",
      "Iteration  1, inertia 46881.783\n",
      "Iteration  2, inertia 46848.644\n",
      "Iteration  3, inertia 46845.872\n",
      "Iteration  4, inertia 46845.398\n",
      "Iteration  5, inertia 46845.224\n",
      "Iteration  6, inertia 46845.129\n",
      "Iteration  7, inertia 46845.069\n",
      "Iteration  8, inertia 46845.031\n",
      "Iteration  9, inertia 46844.998\n",
      "Iteration 10, inertia 46844.963\n",
      "Iteration 11, inertia 46844.931\n",
      "Iteration 12, inertia 46844.903\n",
      "Iteration 13, inertia 46844.877\n",
      "Iteration 14, inertia 46844.856\n",
      "Iteration 15, inertia 46844.836\n",
      "Iteration 16, inertia 46844.820\n",
      "Iteration 17, inertia 46844.806\n",
      "Iteration 18, inertia 46844.795\n",
      "Iteration 19, inertia 46844.786\n",
      "Iteration 20, inertia 46844.779\n",
      "Iteration 21, inertia 46844.773\n",
      "Iteration 22, inertia 46844.769\n",
      "Iteration 23, inertia 46844.766\n",
      "Iteration 24, inertia 46844.764\n",
      "Iteration 25, inertia 46844.762\n",
      "Iteration 26, inertia 46844.761\n",
      "Iteration 27, inertia 46844.761\n",
      "Iteration 28, inertia 46844.761\n",
      "Converged at iteration 28: center shift 0.000000e+00 within tolerance 1.803028e-10\n",
      "Initialization complete\n",
      "Iteration  0, inertia 93303.814\n",
      "Iteration  1, inertia 46929.710\n",
      "Iteration  2, inertia 46879.686\n",
      "Iteration  3, inertia 46873.034\n",
      "Iteration  4, inertia 46871.320\n",
      "Iteration  5, inertia 46869.931\n",
      "Iteration  6, inertia 46868.050\n",
      "Iteration  7, inertia 46864.652\n",
      "Iteration  8, inertia 46858.877\n",
      "Iteration  9, inertia 46852.075\n",
      "Iteration 10, inertia 46847.408\n",
      "Iteration 11, inertia 46845.714\n",
      "Iteration 12, inertia 46845.319\n",
      "Iteration 13, inertia 46845.183\n",
      "Iteration 14, inertia 46845.105\n",
      "Iteration 15, inertia 46845.054\n",
      "Iteration 16, inertia 46845.018\n",
      "Iteration 17, inertia 46844.985\n",
      "Iteration 18, inertia 46844.951\n",
      "Iteration 19, inertia 46844.921\n",
      "Iteration 20, inertia 46844.891\n",
      "Iteration 21, inertia 46844.866\n",
      "Iteration 22, inertia 46844.845\n",
      "Iteration 23, inertia 46844.827\n",
      "Iteration 24, inertia 46844.813\n",
      "Iteration 25, inertia 46844.801\n",
      "Iteration 26, inertia 46844.791\n",
      "Iteration 27, inertia 46844.783\n",
      "Iteration 28, inertia 46844.777\n",
      "Iteration 29, inertia 46844.772\n",
      "Iteration 30, inertia 46844.768\n",
      "Iteration 31, inertia 46844.765\n",
      "Iteration 32, inertia 46844.763\n",
      "Iteration 33, inertia 46844.762\n",
      "Iteration 34, inertia 46844.761\n",
      "Iteration 35, inertia 46844.761\n",
      "Converged at iteration 35: center shift 0.000000e+00 within tolerance 1.803028e-10\n",
      "Initialization complete\n",
      "Iteration  0, inertia 93765.832\n",
      "Iteration  1, inertia 46969.865\n",
      "Iteration  2, inertia 46941.728\n",
      "Iteration  3, inertia 46915.968\n",
      "Iteration  4, inertia 46877.199\n",
      "Iteration  5, inertia 46852.711\n",
      "Iteration  6, inertia 46851.037\n",
      "Iteration  7, inertia 46849.590\n",
      "Iteration  8, inertia 46845.546\n",
      "Iteration  9, inertia 46833.924\n",
      "Iteration 10, inertia 46822.574\n",
      "Iteration 11, inertia 46820.720\n",
      "Iteration 12, inertia 46820.645\n",
      "Iteration 13, inertia 46820.636\n",
      "Iteration 14, inertia 46820.636\n",
      "Iteration 15, inertia 46820.635\n",
      "Converged at iteration 15: center shift 0.000000e+00 within tolerance 1.803028e-10\n",
      "Initialization complete\n",
      "Iteration  0, inertia 93284.824\n",
      "Iteration  1, inertia 46860.921\n",
      "Iteration  2, inertia 46849.250\n",
      "Iteration  3, inertia 46847.693\n",
      "Iteration  4, inertia 46846.521\n",
      "Iteration  5, inertia 46846.082\n",
      "Iteration  6, inertia 46845.969\n",
      "Iteration  7, inertia 46845.906\n",
      "Iteration  8, inertia 46845.874\n",
      "Iteration  9, inertia 46845.851\n",
      "Iteration 10, inertia 46845.832\n",
      "Iteration 11, inertia 46845.810\n",
      "Iteration 12, inertia 46845.791\n",
      "Iteration 13, inertia 46845.777\n",
      "Iteration 14, inertia 46845.765\n",
      "Iteration 15, inertia 46845.758\n",
      "Iteration 16, inertia 46845.754\n",
      "Iteration 17, inertia 46845.749\n",
      "Iteration 18, inertia 46845.745\n",
      "Iteration 19, inertia 46845.743\n",
      "Iteration 20, inertia 46845.740\n",
      "Iteration 21, inertia 46845.738\n",
      "Iteration 22, inertia 46845.736\n",
      "Iteration 23, inertia 46845.734\n",
      "Iteration 24, inertia 46845.732\n",
      "Iteration 25, inertia 46845.731\n",
      "Iteration 26, inertia 46845.731\n",
      "Iteration 27, inertia 46845.731\n",
      "Iteration 28, inertia 46845.730\n",
      "Converged at iteration 28: center shift 0.000000e+00 within tolerance 1.803028e-10\n",
      "Fited\n",
      "End\n"
     ]
    }
   ],
   "source": [
    "# Bipartition the cluster of non-athletes\n",
    "left_child_non_athletes, right_child_non_athletes = bipartition(non_athletes, maxiter=100, num_runs=6, seed=1)"
   ]
  },
  {
   "cell_type": "code",
   "execution_count": 20,
   "metadata": {
    "collapsed": false
   },
   "outputs": [
    {
     "name": "stdout",
     "output_type": "stream",
     "text": [
      "he:0.013 music:0.012 university:0.011 film:0.010 his:0.009 \n",
      "* Wilson McLean                                      0.97870\n",
      "  wilson mclean born 1937 is a scottish illustrator and artist he has illustrated primarily \n",
      "  in the field of advertising but has also provided cover art\n",
      "* Julian Knowles                                     0.97938\n",
      "  julian knowles is an australian composer and performer specialising in new and emerging te\n",
      "  chnologies his creative work spans the fields of composition for theatre dance\n",
      "* James A. Joseph                                    0.98042\n",
      "  james a joseph born 1935 is an american former diplomatjoseph is professor of the practice\n",
      "   of public policy studies at duke university and founder of\n",
      "* Barry Sullivan (lawyer)                            0.98054\n",
      "  barry sullivan is a chicago lawyer and as of july 1 2009 the cooney conway chair in advoca\n",
      "  cy at loyola university chicago school of law\n",
      "* Archie Brown                                       0.98081\n",
      "  archibald haworth brown cmg fba commonly known as archie brown born 10 may 1938 is a briti\n",
      "  sh political scientist and historian in 2005 he became\n",
      "* Michael Joseph Smith                               0.98124\n",
      "  michael joseph smith is an american jazz and american classical composer and pianist born \n",
      "  in tiline kentucky he has worked extensively in europe and asia\n",
      "* Craig Pruess                                       0.98125\n",
      "  craig pruess born 1950 is an american composer musician arranger and gold platinum record \n",
      "  producer who has been living in britain since 1973 his career\n",
      "* David J. Elliott                                   0.98128\n",
      "  david elliott is professor of music and music education at new york universityelliott was \n",
      "  educated at the university of toronto bmus m mus and bed\n",
      "\n"
     ]
    }
   ],
   "source": [
    "display_single_tf_idf_cluster(left_child_non_athletes, map_index_to_word)"
   ]
  },
  {
   "cell_type": "code",
   "execution_count": 21,
   "metadata": {
    "collapsed": false
   },
   "outputs": [
    {
     "name": "stdout",
     "output_type": "stream",
     "text": [
      "she:0.126 her:0.082 film:0.013 actress:0.012 music:0.012 \n",
      "* Janet Jackson                                      0.93808\n",
      "  janet damita jo jackson born may 16 1966 is an american singer songwriter and actress know\n",
      "  n for a series of sonically innovative socially conscious and\n",
      "* Lauren Royal                                       0.93867\n",
      "  lauren royal born march 3 circa 1965 is a book writer from california royal has written bo\n",
      "  th historic and novelistic booksa selfproclaimed angels baseball fan\n",
      "* Barbara Hershey                                    0.93941\n",
      "  barbara hershey born barbara lynn herzstein february 5 1948 once known as barbara seagull \n",
      "  is an american actress in a career spanning nearly 50 years\n",
      "* Jane Fonda                                         0.94102\n",
      "  jane fonda born lady jayne seymour fonda december 21 1937 is an american actress writer po\n",
      "  litical activist former fashion model and fitness guru she is\n",
      "* Alexandra Potter                                   0.94190\n",
      "  alexandra potter born 1970 is a british author of romantic comediesborn in bradford yorksh\n",
      "  ire england and educated at liverpool university gaining an honors degree in\n",
      "* Janine Shepherd                                    0.94219\n",
      "  janine lee shepherd am born 1962 is an australian pilot and former crosscountry skier shep\n",
      "  herds career as an athlete ended when she suffered major injuries\n",
      "* Cher                                               0.94231\n",
      "  cher r born cherilyn sarkisian may 20 1946 is an american singer actress and television ho\n",
      "  st described as embodying female autonomy in a maledominated industry\n",
      "* Ellina Graypel                                     0.94233\n",
      "  ellina graypel born july 19 1972 is an awardwinning russian singersongwriter she was born \n",
      "  near the volga river in the heart of russia she spent\n",
      "\n"
     ]
    }
   ],
   "source": [
    "display_single_tf_idf_cluster(right_child_non_athletes, map_index_to_word)"
   ]
  },
  {
   "cell_type": "markdown",
   "metadata": {},
   "source": [
    "Neither of the clusters show clear topics, apart from the genders. Let us divide them further."
   ]
  },
  {
   "cell_type": "code",
   "execution_count": 22,
   "metadata": {
    "collapsed": true
   },
   "outputs": [],
   "source": [
    "male_non_athletes = left_child_non_athletes\n",
    "female_non_athletes = right_child_non_athletes"
   ]
  },
  {
   "cell_type": "markdown",
   "metadata": {},
   "source": [
    "**Quiz Question**. Let us bipartition the clusters `male_non_athletes` and `female_non_athletes`. Which diagram best describes the resulting hierarchy of clusters for the non-athletes? Refer to the quiz for the diagrams.\n",
    "\n",
    "**Note**. Use `maxiter=100, num_runs=6, seed=1` for consistency of output."
   ]
  },
  {
   "cell_type": "code",
   "execution_count": 23,
   "metadata": {
    "collapsed": false,
    "scrolled": true
   },
   "outputs": [
    {
     "name": "stdout",
     "output_type": "stream",
     "text": [
      "Fiting\n",
      "Initialization complete\n",
      "Iteration  0, inertia 16575.280\n",
      "Iteration  1, inertia 8467.506\n",
      "Iteration  2, inertia 8462.583\n",
      "Iteration  3, inertia 8461.786\n",
      "Iteration  4, inertia 8461.274\n",
      "Iteration  5, inertia 8460.949\n",
      "Iteration  6, inertia 8460.733\n",
      "Iteration  7, inertia 8460.589\n",
      "Iteration  8, inertia 8460.513\n",
      "Iteration  9, inertia 8460.468\n",
      "Iteration 10, inertia 8460.428\n",
      "Iteration 11, inertia 8460.399\n",
      "Iteration 12, inertia 8460.380\n",
      "Iteration 13, inertia 8460.373\n",
      "Iteration 14, inertia 8460.369\n",
      "Iteration 15, inertia 8460.365\n",
      "Iteration 16, inertia 8460.363\n",
      "Iteration 17, inertia 8460.361\n",
      "Converged at iteration 17: center shift 0.000000e+00 within tolerance 1.759936e-10\n",
      "Initialization complete\n",
      "Iteration  0, inertia 16878.563\n",
      "Iteration  1, inertia 8472.169\n",
      "Iteration  2, inertia 8466.482\n",
      "Iteration  3, inertia 8465.099\n",
      "Iteration  4, inertia 8464.368\n",
      "Iteration  5, inertia 8463.542\n",
      "Iteration  6, inertia 8462.728\n",
      "Iteration  7, inertia 8461.926\n",
      "Iteration  8, inertia 8461.111\n",
      "Iteration  9, inertia 8460.489\n",
      "Iteration 10, inertia 8460.182\n",
      "Iteration 11, inertia 8460.056\n",
      "Iteration 12, inertia 8459.994\n",
      "Iteration 13, inertia 8459.950\n",
      "Iteration 14, inertia 8459.923\n",
      "Iteration 15, inertia 8459.907\n",
      "Iteration 16, inertia 8459.903\n",
      "Iteration 17, inertia 8459.900\n",
      "Iteration 18, inertia 8459.899\n",
      "Iteration 19, inertia 8459.898\n",
      "Converged at iteration 19: center shift 0.000000e+00 within tolerance 1.759936e-10\n",
      "Initialization complete\n",
      "Iteration  0, inertia 16718.751\n",
      "Iteration  1, inertia 8464.184\n",
      "Iteration  2, inertia 8460.241\n",
      "Iteration  3, inertia 8460.016\n",
      "Iteration  4, inertia 8459.975\n",
      "Iteration  5, inertia 8459.961\n",
      "Iteration  6, inertia 8459.955\n",
      "Iteration  7, inertia 8459.955\n",
      "Iteration  8, inertia 8459.954\n",
      "Iteration  9, inertia 8459.954\n",
      "Converged at iteration 9: center shift 0.000000e+00 within tolerance 1.759936e-10\n",
      "Initialization complete\n",
      "Iteration  0, inertia 16952.060\n",
      "Iteration  1, inertia 8475.050\n",
      "Iteration  2, inertia 8467.027\n",
      "Iteration  3, inertia 8465.612\n",
      "Iteration  4, inertia 8464.334\n",
      "Iteration  5, inertia 8462.021\n",
      "Iteration  6, inertia 8460.267\n",
      "Iteration  7, inertia 8459.789\n",
      "Iteration  8, inertia 8459.663\n",
      "Iteration  9, inertia 8459.621\n",
      "Iteration 10, inertia 8459.590\n",
      "Iteration 11, inertia 8459.578\n",
      "Iteration 12, inertia 8459.569\n",
      "Iteration 13, inertia 8459.565\n",
      "Iteration 14, inertia 8459.565\n",
      "Iteration 15, inertia 8459.564\n",
      "Iteration 16, inertia 8459.563\n",
      "Converged at iteration 16: center shift 0.000000e+00 within tolerance 1.759936e-10\n",
      "Initialization complete\n",
      "Iteration  0, inertia 16601.630\n",
      "Iteration  1, inertia 8485.608\n",
      "Iteration  2, inertia 8480.457\n",
      "Iteration  3, inertia 8479.534\n",
      "Iteration  4, inertia 8479.306\n",
      "Iteration  5, inertia 8479.264\n",
      "Iteration  6, inertia 8479.246\n",
      "Iteration  7, inertia 8479.228\n",
      "Iteration  8, inertia 8479.215\n",
      "Iteration  9, inertia 8479.205\n",
      "Iteration 10, inertia 8479.198\n",
      "Iteration 11, inertia 8479.191\n",
      "Iteration 12, inertia 8479.189\n",
      "Converged at iteration 12: center shift 0.000000e+00 within tolerance 1.759936e-10\n",
      "Initialization complete\n",
      "Iteration  0, inertia 16795.756\n",
      "Iteration  1, inertia 8475.196\n",
      "Iteration  2, inertia 8469.068\n",
      "Iteration  3, inertia 8464.379\n",
      "Iteration  4, inertia 8460.480\n",
      "Iteration  5, inertia 8459.881\n",
      "Iteration  6, inertia 8459.673\n",
      "Iteration  7, inertia 8459.601\n",
      "Iteration  8, inertia 8459.579\n",
      "Iteration  9, inertia 8459.571\n",
      "Iteration 10, inertia 8459.569\n",
      "Iteration 11, inertia 8459.568\n",
      "Converged at iteration 11: center shift 0.000000e+00 within tolerance 1.759936e-10\n",
      "Fited\n",
      "End\n"
     ]
    }
   ],
   "source": [
    "female_non_athletes_left, female_non_athletes_right = bipartition(female_non_athletes, maxiter=100, num_runs=6, seed=1)"
   ]
  },
  {
   "cell_type": "code",
   "execution_count": 24,
   "metadata": {
    "collapsed": false,
    "scrolled": true
   },
   "outputs": [
    {
     "name": "stdout",
     "output_type": "stream",
     "text": [
      "Fiting\n",
      "Initialization complete\n",
      "Iteration  0, inertia 76578.986\n",
      "Iteration  1, inertia 38261.177\n",
      "Iteration  2, inertia 38226.036\n",
      "Iteration  3, inertia 38220.595\n",
      "Iteration  4, inertia 38218.011\n",
      "Iteration  5, inertia 38216.416\n",
      "Iteration  6, inertia 38215.519\n",
      "Iteration  7, inertia 38215.055\n",
      "Iteration  8, inertia 38214.803\n",
      "Iteration  9, inertia 38214.620\n",
      "Iteration 10, inertia 38214.479\n",
      "Iteration 11, inertia 38214.379\n",
      "Iteration 12, inertia 38214.311\n",
      "Iteration 13, inertia 38214.266\n",
      "Iteration 14, inertia 38214.236\n",
      "Iteration 15, inertia 38214.216\n",
      "Iteration 16, inertia 38214.202\n",
      "Iteration 17, inertia 38214.190\n",
      "Iteration 18, inertia 38214.179\n",
      "Iteration 19, inertia 38214.174\n",
      "Iteration 20, inertia 38214.169\n",
      "Iteration 21, inertia 38214.166\n",
      "Iteration 22, inertia 38214.164\n",
      "Iteration 23, inertia 38214.162\n",
      "Iteration 24, inertia 38214.161\n",
      "Iteration 25, inertia 38214.160\n",
      "Iteration 26, inertia 38214.159\n",
      "Iteration 27, inertia 38214.159\n",
      "Iteration 28, inertia 38214.159\n",
      "Iteration 29, inertia 38214.159\n",
      "Iteration 30, inertia 38214.159\n",
      "Iteration 31, inertia 38214.158\n",
      "Converged at iteration 31: center shift 0.000000e+00 within tolerance 1.804783e-10\n",
      "Initialization complete\n",
      "Iteration  0, inertia 76456.325\n",
      "Iteration  1, inertia 38289.068\n",
      "Iteration  2, inertia 38228.527\n",
      "Iteration  3, inertia 38216.326\n",
      "Iteration  4, inertia 38215.206\n",
      "Iteration  5, inertia 38214.928\n",
      "Iteration  6, inertia 38214.723\n",
      "Iteration  7, inertia 38214.569\n",
      "Iteration  8, inertia 38214.450\n",
      "Iteration  9, inertia 38214.360\n",
      "Iteration 10, inertia 38214.299\n",
      "Iteration 11, inertia 38214.260\n",
      "Iteration 12, inertia 38214.231\n",
      "Iteration 13, inertia 38214.212\n",
      "Iteration 14, inertia 38214.200\n",
      "Iteration 15, inertia 38214.188\n",
      "Iteration 16, inertia 38214.178\n",
      "Iteration 17, inertia 38214.173\n",
      "Iteration 18, inertia 38214.168\n",
      "Iteration 19, inertia 38214.166\n",
      "Iteration 20, inertia 38214.164\n",
      "Iteration 21, inertia 38214.162\n",
      "Iteration 22, inertia 38214.161\n",
      "Iteration 23, inertia 38214.160\n",
      "Iteration 24, inertia 38214.159\n",
      "Iteration 25, inertia 38214.159\n",
      "Iteration 26, inertia 38214.159\n",
      "Iteration 27, inertia 38214.159\n",
      "Iteration 28, inertia 38214.159\n",
      "Iteration 29, inertia 38214.158\n",
      "Converged at iteration 29: center shift 0.000000e+00 within tolerance 1.804783e-10\n",
      "Initialization complete\n",
      "Iteration  0, inertia 76260.460\n",
      "Iteration  1, inertia 38260.008\n",
      "Iteration  2, inertia 38215.619\n",
      "Iteration  3, inertia 38214.539\n",
      "Iteration  4, inertia 38214.448\n",
      "Iteration  5, inertia 38214.413\n",
      "Iteration  6, inertia 38214.388\n",
      "Iteration  7, inertia 38214.366\n",
      "Iteration  8, inertia 38214.352\n",
      "Iteration  9, inertia 38214.341\n",
      "Iteration 10, inertia 38214.330\n",
      "Iteration 11, inertia 38214.318\n",
      "Iteration 12, inertia 38214.306\n",
      "Iteration 13, inertia 38214.295\n",
      "Iteration 14, inertia 38214.281\n",
      "Iteration 15, inertia 38214.266\n",
      "Iteration 16, inertia 38214.252\n",
      "Iteration 17, inertia 38214.239\n",
      "Iteration 18, inertia 38214.226\n",
      "Iteration 19, inertia 38214.216\n",
      "Iteration 20, inertia 38214.208\n",
      "Iteration 21, inertia 38214.202\n",
      "Iteration 22, inertia 38214.196\n",
      "Iteration 23, inertia 38214.191\n",
      "Iteration 24, inertia 38214.187\n",
      "Iteration 25, inertia 38214.185\n",
      "Iteration 26, inertia 38214.182\n",
      "Iteration 27, inertia 38214.180\n",
      "Iteration 28, inertia 38214.178\n",
      "Iteration 29, inertia 38214.177\n",
      "Iteration 30, inertia 38214.176\n",
      "Iteration 31, inertia 38214.174\n",
      "Iteration 32, inertia 38214.173\n",
      "Iteration 33, inertia 38214.173\n",
      "Iteration 34, inertia 38214.172\n",
      "Iteration 35, inertia 38214.172\n",
      "Iteration 36, inertia 38214.172\n",
      "Iteration 37, inertia 38214.172\n",
      "Iteration 38, inertia 38214.171\n",
      "Iteration 39, inertia 38214.171\n",
      "Converged at iteration 39: center shift 0.000000e+00 within tolerance 1.804783e-10\n",
      "Initialization complete\n",
      "Iteration  0, inertia 76290.232\n",
      "Iteration  1, inertia 38273.290\n",
      "Iteration  2, inertia 38229.109\n",
      "Iteration  3, inertia 38218.732\n",
      "Iteration  4, inertia 38215.821\n",
      "Iteration  5, inertia 38215.096\n",
      "Iteration  6, inertia 38214.757\n",
      "Iteration  7, inertia 38214.573\n",
      "Iteration  8, inertia 38214.450\n",
      "Iteration  9, inertia 38214.356\n",
      "Iteration 10, inertia 38214.297\n",
      "Iteration 11, inertia 38214.257\n",
      "Iteration 12, inertia 38214.229\n",
      "Iteration 13, inertia 38214.212\n",
      "Iteration 14, inertia 38214.199\n",
      "Iteration 15, inertia 38214.187\n",
      "Iteration 16, inertia 38214.178\n",
      "Iteration 17, inertia 38214.172\n",
      "Iteration 18, inertia 38214.168\n",
      "Iteration 19, inertia 38214.166\n",
      "Iteration 20, inertia 38214.164\n",
      "Iteration 21, inertia 38214.162\n",
      "Iteration 22, inertia 38214.161\n",
      "Iteration 23, inertia 38214.160\n",
      "Iteration 24, inertia 38214.159\n",
      "Iteration 25, inertia 38214.159\n",
      "Iteration 26, inertia 38214.159\n",
      "Iteration 27, inertia 38214.159\n",
      "Iteration 28, inertia 38214.159\n",
      "Iteration 29, inertia 38214.158\n",
      "Converged at iteration 29: center shift 0.000000e+00 within tolerance 1.804783e-10\n",
      "Initialization complete\n",
      "Iteration  0, inertia 76091.199\n",
      "Iteration  1, inertia 38280.680\n",
      "Iteration  2, inertia 38238.238\n",
      "Iteration  3, inertia 38225.581\n",
      "Iteration  4, inertia 38222.553\n",
      "Iteration  5, inertia 38221.478\n",
      "Iteration  6, inertia 38220.943\n",
      "Iteration  7, inertia 38220.604\n",
      "Iteration  8, inertia 38220.342\n",
      "Iteration  9, inertia 38220.051\n",
      "Iteration 10, inertia 38219.677\n",
      "Iteration 11, inertia 38219.145\n",
      "Iteration 12, inertia 38218.482\n",
      "Iteration 13, inertia 38217.740\n",
      "Iteration 14, inertia 38216.956\n",
      "Iteration 15, inertia 38216.243\n",
      "Iteration 16, inertia 38215.713\n",
      "Iteration 17, inertia 38215.329\n",
      "Iteration 18, inertia 38215.055\n",
      "Iteration 19, inertia 38214.841\n",
      "Iteration 20, inertia 38214.668\n",
      "Iteration 21, inertia 38214.523\n",
      "Iteration 22, inertia 38214.413\n",
      "Iteration 23, inertia 38214.333\n",
      "Iteration 24, inertia 38214.282\n",
      "Iteration 25, inertia 38214.246\n",
      "Iteration 26, inertia 38214.221\n",
      "Iteration 27, inertia 38214.206\n",
      "Iteration 28, inertia 38214.193\n",
      "Iteration 29, inertia 38214.182\n",
      "Iteration 30, inertia 38214.175\n",
      "Iteration 31, inertia 38214.170\n",
      "Iteration 32, inertia 38214.166\n",
      "Iteration 33, inertia 38214.164\n",
      "Iteration 34, inertia 38214.162\n",
      "Iteration 35, inertia 38214.161\n",
      "Iteration 36, inertia 38214.160\n",
      "Iteration 37, inertia 38214.159\n",
      "Iteration 38, inertia 38214.159\n",
      "Iteration 39, inertia 38214.159\n",
      "Iteration 40, inertia 38214.159\n",
      "Iteration 41, inertia 38214.159\n",
      "Iteration 42, inertia 38214.158\n",
      "Converged at iteration 42: center shift 0.000000e+00 within tolerance 1.804783e-10\n",
      "Initialization complete\n",
      "Iteration  0, inertia 76197.941\n",
      "Iteration  1, inertia 38223.520\n",
      "Iteration  2, inertia 38214.592\n",
      "Iteration  3, inertia 38214.300\n",
      "Iteration  4, inertia 38214.242\n",
      "Iteration  5, inertia 38214.220\n",
      "Iteration  6, inertia 38214.207\n",
      "Iteration  7, inertia 38214.200\n",
      "Iteration  8, inertia 38214.194\n",
      "Iteration  9, inertia 38214.189\n",
      "Iteration 10, inertia 38214.186\n",
      "Iteration 11, inertia 38214.184\n",
      "Iteration 12, inertia 38214.182\n",
      "Iteration 13, inertia 38214.179\n",
      "Iteration 14, inertia 38214.177\n",
      "Iteration 15, inertia 38214.176\n",
      "Iteration 16, inertia 38214.175\n",
      "Iteration 17, inertia 38214.174\n",
      "Iteration 18, inertia 38214.173\n",
      "Iteration 19, inertia 38214.173\n",
      "Iteration 20, inertia 38214.172\n",
      "Iteration 21, inertia 38214.172\n",
      "Iteration 22, inertia 38214.172\n",
      "Iteration 23, inertia 38214.172\n",
      "Iteration 24, inertia 38214.171\n",
      "Converged at iteration 24: center shift 0.000000e+00 within tolerance 1.804783e-10\n",
      "Fited\n",
      "End\n"
     ]
    }
   ],
   "source": [
    "male_non_athletes_left, male_non_athletes_right = bipartition(male_non_athletes, maxiter=100, num_runs=6, seed=1)"
   ]
  },
  {
   "cell_type": "code",
   "execution_count": 25,
   "metadata": {
    "collapsed": false
   },
   "outputs": [
    {
     "name": "stdout",
     "output_type": "stream",
     "text": [
      "university:0.017 he:0.015 law:0.013 served:0.013 research:0.013 \n",
      "* Barry Sullivan (lawyer)                            0.97075\n",
      "  barry sullivan is a chicago lawyer and as of july 1 2009 the cooney conway chair in advoca\n",
      "  cy at loyola university chicago school of law\n",
      "* James A. Joseph                                    0.97344\n",
      "  james a joseph born 1935 is an american former diplomatjoseph is professor of the practice\n",
      "   of public policy studies at duke university and founder of\n",
      "* David Anderson (British Columbia politician)       0.97383\n",
      "  david a anderson pc oc born august 16 1937 in victoria british columbia is a former canadi\n",
      "  an cabinet minister educated at victoria college in victoria\n",
      "* Sven Erik Holmes                                   0.97469\n",
      "  sven erik holmes is a former federal judge and currently the vice chairman legal risk and \n",
      "  regulatory and chief legal officer for kpmg llp a\n",
      "* Andrew Fois                                        0.97558\n",
      "  andrew fois is an attorney living and working in washington dc as of april 9 2012 he will \n",
      "  be serving as the deputy attorney general\n",
      "* William Robert Graham                              0.97564\n",
      "  william robert graham born june 15 1937 was chairman of president reagans general advisory\n",
      "   committee on arms control from 1982 to 1985 a deputy administrator\n",
      "* John C. Eastman                                    0.97585\n",
      "  john c eastman born april 21 1960 is a conservative american law professor and constitutio\n",
      "  nal law scholar he is the henry salvatori professor of law\n",
      "* M. Cherif Bassiouni                                0.97587\n",
      "  mahmoud cherif bassiouni was born in cairo egypt in 1937 and immigrated to the united stat\n",
      "  es in 1962 he is emeritus professor of law at\n",
      "\n",
      "music:0.023 film:0.020 album:0.014 band:0.014 art:0.013 \n",
      "* Julian Knowles                                     0.97192\n",
      "  julian knowles is an australian composer and performer specialising in new and emerging te\n",
      "  chnologies his creative work spans the fields of composition for theatre dance\n",
      "* Peter Combe                                        0.97292\n",
      "  peter combe born 20 october 1948 is an australian childrens entertainer and musicianmusica\n",
      "  l genre childrens musiche has had 22 releases including seven gold albums two\n",
      "* Craig Pruess                                       0.97346\n",
      "  craig pruess born 1950 is an american composer musician arranger and gold platinum record \n",
      "  producer who has been living in britain since 1973 his career\n",
      "* Ceiri Torjussen                                    0.97420\n",
      "  ceiri torjussen born 1976 is a composer who has contributed music to dozens of film and te\n",
      "  levision productions in the ushis music was described by\n",
      "* Wilson McLean                                      0.97455\n",
      "  wilson mclean born 1937 is a scottish illustrator and artist he has illustrated primarily \n",
      "  in the field of advertising but has also provided cover art\n",
      "* Brenton Broadstock                                 0.97471\n",
      "  brenton broadstock ao born 1952 is an australian composerbroadstock was born in melbourne \n",
      "  he studied history politics and music at monash university and later composition\n",
      "* Michael Peter Smith                                0.97499\n",
      "  michael peter smith born september 7 1941 is a chicagobased singersongwriter rolling stone\n",
      "   magazine once called him the greatest songwriter in the english language he\n",
      "* Third Hawkins                                      0.97553\n",
      "  born maurice hawkins third hawkins is a recognized music producer in and out of the dmv ar\n",
      "  ea including his hometown of baltimore maryland he has\n",
      "\n"
     ]
    }
   ],
   "source": [
    "display_single_tf_idf_cluster(male_non_athletes_left, map_index_to_word)\n",
    "display_single_tf_idf_cluster(male_non_athletes_right, map_index_to_word)"
   ]
  },
  {
   "cell_type": "code",
   "execution_count": 26,
   "metadata": {
    "collapsed": false
   },
   "outputs": [
    {
     "name": "stdout",
     "output_type": "stream",
     "text": [
      "she:0.121 her:0.100 actress:0.031 film:0.030 music:0.028 \n",
      "* Janet Jackson                                      0.92374\n",
      "  janet damita jo jackson born may 16 1966 is an american singer songwriter and actress know\n",
      "  n for a series of sonically innovative socially conscious and\n",
      "* Barbara Hershey                                    0.92524\n",
      "  barbara hershey born barbara lynn herzstein february 5 1948 once known as barbara seagull \n",
      "  is an american actress in a career spanning nearly 50 years\n",
      "* Madonna (entertainer)                              0.92753\n",
      "  madonna louise ciccone tkoni born august 16 1958 is an american singer songwriter actress \n",
      "  and businesswoman she achieved popularity by pushing the boundaries of lyrical\n",
      "* Cher                                               0.92909\n",
      "  cher r born cherilyn sarkisian may 20 1946 is an american singer actress and television ho\n",
      "  st described as embodying female autonomy in a maledominated industry\n",
      "* Candice Bergen                                     0.93266\n",
      "  candice patricia bergen born may 9 1946 is an american actress and former fashion model fo\n",
      "  r her role as the title character on the cbs\n",
      "* Glenn Close                                        0.93426\n",
      "  glenn close born march 19 1947 is an american film television and stage actress throughout\n",
      "   her long and varied career she has been consistently acclaimed\n",
      "* Jane Fonda                                         0.93515\n",
      "  jane fonda born lady jayne seymour fonda december 21 1937 is an american actress writer po\n",
      "  litical activist former fashion model and fitness guru she is\n",
      "* Judi Dench                                         0.93624\n",
      "  dame judith olivia dench ch dbe frsa born 9 december 1934 is an english actress and author\n",
      "   dench made her professional debut in 1957 with\n",
      "\n",
      "she:0.130 her:0.072 women:0.014 miss:0.014 university:0.013 \n",
      "* Lauren Royal                                       0.93939\n",
      "  lauren royal born march 3 circa 1965 is a book writer from california royal has written bo\n",
      "  th historic and novelistic booksa selfproclaimed angels baseball fan\n",
      "* %C3%81ine Hyland                                   0.93940\n",
      "  ine hyland ne donlon is emeritus professor of education and former vicepresident of univer\n",
      "  sity college cork ireland she was born in 1942 in athboy co\n",
      "* Dorothy E. Smith                                   0.94113\n",
      "  dorothy edith smithborn july 6 1926 is a canadian sociologist with research interests besi\n",
      "  des in sociology in many disciplines including womens studies psychology and educational\n",
      "* Kayee Griffin                                      0.94162\n",
      "  kayee frances griffin born 6 february 1950 is an australian politician and former australi\n",
      "  an labor party member of the new south wales legislative council serving\n",
      "* Janine Shepherd                                    0.94252\n",
      "  janine lee shepherd am born 1962 is an australian pilot and former crosscountry skier shep\n",
      "  herds career as an athlete ended when she suffered major injuries\n",
      "* Bhama Srinivasan                                   0.94281\n",
      "  bhama srinivasan april 22 1935 is a mathematician known for her work in the representation\n",
      "   theory of finite groups her contributions were honored with the\n",
      "* Ellen Christine Christiansen                       0.94395\n",
      "  ellen christine christiansen born 10 december 1964 is a norwegian politician representing \n",
      "  the conservative party and formerly the progress partyborn in oslo she finished her\n",
      "* Elvira Vinogradova                                 0.94420\n",
      "  elvira vinogradova russian born june 16 1934 is a russian tv editorelvira belenina russian\n",
      "   was born in 1934 in fergana ussr she went to school\n",
      "\n"
     ]
    }
   ],
   "source": [
    "display_single_tf_idf_cluster(female_non_athletes_left, map_index_to_word)\n",
    "display_single_tf_idf_cluster(female_non_athletes_right, map_index_to_word)"
   ]
  }
 ],
 "metadata": {
  "kernelspec": {
   "display_name": "Python 2",
   "language": "python",
   "name": "python2"
  },
  "language_info": {
   "codemirror_mode": {
    "name": "ipython",
    "version": 2
   },
   "file_extension": ".py",
   "mimetype": "text/x-python",
   "name": "python",
   "nbconvert_exporter": "python",
   "pygments_lexer": "ipython2",
   "version": "2.7.13"
  }
 },
 "nbformat": 4,
 "nbformat_minor": 0
}
